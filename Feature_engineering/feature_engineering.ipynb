{
 "cells": [
  {
   "cell_type": "markdown",
   "id": "b52d4cfa-c6ce-4f0e-90db-6af9de9a5e23",
   "metadata": {},
   "source": [
    "# High cardinality categorical feature encoding"
   ]
  },
  {
   "cell_type": "code",
   "execution_count": 50,
   "id": "c5d39b7e-3e30-4640-acdb-3285441e5035",
   "metadata": {},
   "outputs": [
    {
     "data": {
      "text/html": [
       "<div>\n",
       "<style scoped>\n",
       "    .dataframe tbody tr th:only-of-type {\n",
       "        vertical-align: middle;\n",
       "    }\n",
       "\n",
       "    .dataframe tbody tr th {\n",
       "        vertical-align: top;\n",
       "    }\n",
       "\n",
       "    .dataframe thead th {\n",
       "        text-align: right;\n",
       "    }\n",
       "</style>\n",
       "<table border=\"1\" class=\"dataframe\">\n",
       "  <thead>\n",
       "    <tr style=\"text-align: right;\">\n",
       "      <th></th>\n",
       "      <th>X1</th>\n",
       "      <th>X2</th>\n",
       "    </tr>\n",
       "  </thead>\n",
       "  <tbody>\n",
       "    <tr>\n",
       "      <th>0</th>\n",
       "      <td>v</td>\n",
       "      <td>at</td>\n",
       "    </tr>\n",
       "    <tr>\n",
       "      <th>1</th>\n",
       "      <td>t</td>\n",
       "      <td>av</td>\n",
       "    </tr>\n",
       "    <tr>\n",
       "      <th>2</th>\n",
       "      <td>w</td>\n",
       "      <td>n</td>\n",
       "    </tr>\n",
       "    <tr>\n",
       "      <th>3</th>\n",
       "      <td>t</td>\n",
       "      <td>n</td>\n",
       "    </tr>\n",
       "    <tr>\n",
       "      <th>4</th>\n",
       "      <td>v</td>\n",
       "      <td>n</td>\n",
       "    </tr>\n",
       "  </tbody>\n",
       "</table>\n",
       "</div>"
      ],
      "text/plain": [
       "  X1  X2\n",
       "0  v  at\n",
       "1  t  av\n",
       "2  w   n\n",
       "3  t   n\n",
       "4  v   n"
      ]
     },
     "execution_count": 50,
     "metadata": {},
     "output_type": "execute_result"
    }
   ],
   "source": [
    "import pandas as pd\n",
    "import numpy as np\n",
    "\n",
    "# let's open the mercedes benz dataset for demonstration\n",
    "# Download the dataset from the below link\n",
    "#https://www.kaggle.com/aditya1702/mercedes-benz-data-exploration/data\n",
    "\n",
    "df = pd.read_csv('mercedesbenz.csv', usecols=['X1', 'X2'])\n",
    "df.head()"
   ]
  },
  {
   "cell_type": "code",
   "execution_count": 51,
   "id": "132215ee-83f9-42e7-b5ed-f88bf744f897",
   "metadata": {},
   "outputs": [
    {
     "name": "stdout",
     "output_type": "stream",
     "text": [
      "The total number of categories are: 44\n"
     ]
    }
   ],
   "source": [
    "# The cardinality of `X2` cols\n",
    "df['X2'].unique()\n",
    "print('The total number of categories are:', len(df['X2'].unique()))"
   ]
  },
  {
   "cell_type": "markdown",
   "id": "e355d6de-f359-4d1e-8211-3f3d9f674ae6",
   "metadata": {},
   "source": [
    "## One hot encoding using pandas"
   ]
  },
  {
   "cell_type": "markdown",
   "id": "17298991-71c5-4c1a-a347-f34eac80ad0b",
   "metadata": {},
   "source": [
    "Ref: [Link](https://github.com/krishnaik06/Complete-Feature-Engineering/blob/master/2.Count_frequency_encoding.ipynb)"
   ]
  },
  {
   "cell_type": "code",
   "execution_count": 74,
   "id": "1fa39621-9c76-42b3-ad1d-82ad2f1ed59b",
   "metadata": {},
   "outputs": [
    {
     "data": {
      "text/plain": [
       "(4209, 69)"
      ]
     },
     "execution_count": 74,
     "metadata": {},
     "output_type": "execute_result"
    }
   ],
   "source": [
    "# let's examine how many columns we will obtain after one hot encoding these variables\n",
    "pd.get_dummies(df, drop_first=True).shape"
   ]
  },
  {
   "cell_type": "markdown",
   "id": "6c4fde7c-5734-43be-9b01-66a583ce7eb3",
   "metadata": {},
   "source": [
    "## Count/ Frequency encoding"
   ]
  },
  {
   "cell_type": "markdown",
   "id": "b4669191-88c7-4303-a7ec-3b0cbc760b6f",
   "metadata": {},
   "source": [
    "Replace category with its count/ frequency"
   ]
  },
  {
   "cell_type": "code",
   "execution_count": 61,
   "id": "462db712-c059-41fa-91ec-f1d79bbc0b4a",
   "metadata": {},
   "outputs": [],
   "source": [
    "df1 = df.copy()"
   ]
  },
  {
   "cell_type": "code",
   "execution_count": 62,
   "id": "45dc02ef-2088-435a-aacf-d1068a87dd35",
   "metadata": {},
   "outputs": [],
   "source": [
    "# categories mapping with frequency\n",
    "mapping_dict  = df1['X2'].value_counts().to_dict()"
   ]
  },
  {
   "cell_type": "code",
   "execution_count": 63,
   "id": "2503f48c-5e85-4c9e-80ae-7bec1089f3a3",
   "metadata": {},
   "outputs": [],
   "source": [
    "df1['X2'] = df1.apply(lambda z:mapping_dict[z['X2']], axis=1)\n",
    "#df1.X2 = df1.X2.map(mapping_dict)\n"
   ]
  },
  {
   "cell_type": "code",
   "execution_count": 64,
   "id": "530309e6-1d3c-4b07-82da-29b0b2affe57",
   "metadata": {},
   "outputs": [
    {
     "data": {
      "text/html": [
       "<div>\n",
       "<style scoped>\n",
       "    .dataframe tbody tr th:only-of-type {\n",
       "        vertical-align: middle;\n",
       "    }\n",
       "\n",
       "    .dataframe tbody tr th {\n",
       "        vertical-align: top;\n",
       "    }\n",
       "\n",
       "    .dataframe thead th {\n",
       "        text-align: right;\n",
       "    }\n",
       "</style>\n",
       "<table border=\"1\" class=\"dataframe\">\n",
       "  <thead>\n",
       "    <tr style=\"text-align: right;\">\n",
       "      <th></th>\n",
       "      <th>X1</th>\n",
       "      <th>X2</th>\n",
       "    </tr>\n",
       "  </thead>\n",
       "  <tbody>\n",
       "    <tr>\n",
       "      <th>0</th>\n",
       "      <td>v</td>\n",
       "      <td>6</td>\n",
       "    </tr>\n",
       "    <tr>\n",
       "      <th>1</th>\n",
       "      <td>t</td>\n",
       "      <td>4</td>\n",
       "    </tr>\n",
       "    <tr>\n",
       "      <th>2</th>\n",
       "      <td>w</td>\n",
       "      <td>137</td>\n",
       "    </tr>\n",
       "    <tr>\n",
       "      <th>3</th>\n",
       "      <td>t</td>\n",
       "      <td>137</td>\n",
       "    </tr>\n",
       "    <tr>\n",
       "      <th>4</th>\n",
       "      <td>v</td>\n",
       "      <td>137</td>\n",
       "    </tr>\n",
       "  </tbody>\n",
       "</table>\n",
       "</div>"
      ],
      "text/plain": [
       "  X1   X2\n",
       "0  v    6\n",
       "1  t    4\n",
       "2  w  137\n",
       "3  t  137\n",
       "4  v  137"
      ]
     },
     "execution_count": 64,
     "metadata": {},
     "output_type": "execute_result"
    }
   ],
   "source": [
    "df1.head()"
   ]
  },
  {
   "cell_type": "markdown",
   "id": "db87a586-47d4-4182-87ab-4b37de6bcb73",
   "metadata": {},
   "source": [
    "### Advantages\n",
    "* It is very simple to implement\n",
    "* Does not increase the feature dimensional space\n",
    "\n",
    "### Disadvantages\n",
    "* If some of the labels have the same count, then they will be replaced with the same count and they will loose some valuable information.\n",
    "*  Adds somewhat arbitrary numbers, and therefore weights to the different labels, that may not be related to their predictive power\n",
    "\n",
    "Follow this thread in Kaggle for more information: https://www.kaggle.com/general/16927"
   ]
  },
  {
   "cell_type": "markdown",
   "id": "a915786e-78eb-4bb0-80fd-7389164674ef",
   "metadata": {},
   "source": [
    "## One hot encoding Top few category"
   ]
  },
  {
   "cell_type": "markdown",
   "id": "aeb0fb1c-9a9b-4ed4-8459-325d8241f973",
   "metadata": {},
   "source": [
    "Ref: [Link](https://github.com/krishnaik06/Complete-Feature-Engineering/blob/master/1_OHE_variables_with_many_labels.ipynb)"
   ]
  },
  {
   "cell_type": "code",
   "execution_count": 65,
   "id": "a3068782-bedd-44b3-8581-464098ae0d6f",
   "metadata": {},
   "outputs": [],
   "source": [
    "df2= df.copy()"
   ]
  },
  {
   "cell_type": "code",
   "execution_count": 85,
   "id": "b4354d2e-cea6-49ae-b139-dd154cc790d5",
   "metadata": {},
   "outputs": [
    {
     "data": {
      "text/plain": [
       "0.8918983131385128"
      ]
     },
     "execution_count": 85,
     "metadata": {},
     "output_type": "execute_result"
    }
   ],
   "source": [
    "# Top 10 frequently occuring category corresponds to ~90% entries\n",
    "df2['X2'].value_counts().sort_values(ascending=False).head(10).sum()/df.shape[0]"
   ]
  },
  {
   "cell_type": "code",
   "execution_count": 90,
   "id": "fc97071c-980c-4c94-bcee-5a9a9ae9a093",
   "metadata": {},
   "outputs": [],
   "source": [
    "top_10_level = list(df2['X2'].value_counts().sort_values(ascending=False).head(10).index)"
   ]
  },
  {
   "cell_type": "code",
   "execution_count": 97,
   "id": "09d15e9b-1610-4f8a-ae75-8905b00f62e2",
   "metadata": {},
   "outputs": [],
   "source": [
    "df2.loc[:,'X2'] = df2.apply(lambda z: 'other' if  z['X2'] not in top_10_level   else  z['X2'] , axis=1)"
   ]
  },
  {
   "cell_type": "code",
   "execution_count": 98,
   "id": "6cf01e45-2acb-4dce-b94c-03e03991e2ad",
   "metadata": {},
   "outputs": [
    {
     "data": {
      "text/html": [
       "<div>\n",
       "<style scoped>\n",
       "    .dataframe tbody tr th:only-of-type {\n",
       "        vertical-align: middle;\n",
       "    }\n",
       "\n",
       "    .dataframe tbody tr th {\n",
       "        vertical-align: top;\n",
       "    }\n",
       "\n",
       "    .dataframe thead th {\n",
       "        text-align: right;\n",
       "    }\n",
       "</style>\n",
       "<table border=\"1\" class=\"dataframe\">\n",
       "  <thead>\n",
       "    <tr style=\"text-align: right;\">\n",
       "      <th></th>\n",
       "      <th>ae</th>\n",
       "      <th>ai</th>\n",
       "      <th>ak</th>\n",
       "      <th>as</th>\n",
       "      <th>e</th>\n",
       "      <th>f</th>\n",
       "      <th>m</th>\n",
       "      <th>n</th>\n",
       "      <th>other</th>\n",
       "      <th>r</th>\n",
       "      <th>s</th>\n",
       "    </tr>\n",
       "  </thead>\n",
       "  <tbody>\n",
       "    <tr>\n",
       "      <th>0</th>\n",
       "      <td>0</td>\n",
       "      <td>0</td>\n",
       "      <td>0</td>\n",
       "      <td>0</td>\n",
       "      <td>0</td>\n",
       "      <td>0</td>\n",
       "      <td>0</td>\n",
       "      <td>0</td>\n",
       "      <td>1</td>\n",
       "      <td>0</td>\n",
       "      <td>0</td>\n",
       "    </tr>\n",
       "    <tr>\n",
       "      <th>1</th>\n",
       "      <td>0</td>\n",
       "      <td>0</td>\n",
       "      <td>0</td>\n",
       "      <td>0</td>\n",
       "      <td>0</td>\n",
       "      <td>0</td>\n",
       "      <td>0</td>\n",
       "      <td>0</td>\n",
       "      <td>1</td>\n",
       "      <td>0</td>\n",
       "      <td>0</td>\n",
       "    </tr>\n",
       "    <tr>\n",
       "      <th>2</th>\n",
       "      <td>0</td>\n",
       "      <td>0</td>\n",
       "      <td>0</td>\n",
       "      <td>0</td>\n",
       "      <td>0</td>\n",
       "      <td>0</td>\n",
       "      <td>0</td>\n",
       "      <td>1</td>\n",
       "      <td>0</td>\n",
       "      <td>0</td>\n",
       "      <td>0</td>\n",
       "    </tr>\n",
       "    <tr>\n",
       "      <th>3</th>\n",
       "      <td>0</td>\n",
       "      <td>0</td>\n",
       "      <td>0</td>\n",
       "      <td>0</td>\n",
       "      <td>0</td>\n",
       "      <td>0</td>\n",
       "      <td>0</td>\n",
       "      <td>1</td>\n",
       "      <td>0</td>\n",
       "      <td>0</td>\n",
       "      <td>0</td>\n",
       "    </tr>\n",
       "    <tr>\n",
       "      <th>4</th>\n",
       "      <td>0</td>\n",
       "      <td>0</td>\n",
       "      <td>0</td>\n",
       "      <td>0</td>\n",
       "      <td>0</td>\n",
       "      <td>0</td>\n",
       "      <td>0</td>\n",
       "      <td>1</td>\n",
       "      <td>0</td>\n",
       "      <td>0</td>\n",
       "      <td>0</td>\n",
       "    </tr>\n",
       "    <tr>\n",
       "      <th>...</th>\n",
       "      <td>...</td>\n",
       "      <td>...</td>\n",
       "      <td>...</td>\n",
       "      <td>...</td>\n",
       "      <td>...</td>\n",
       "      <td>...</td>\n",
       "      <td>...</td>\n",
       "      <td>...</td>\n",
       "      <td>...</td>\n",
       "      <td>...</td>\n",
       "      <td>...</td>\n",
       "    </tr>\n",
       "    <tr>\n",
       "      <th>4204</th>\n",
       "      <td>0</td>\n",
       "      <td>0</td>\n",
       "      <td>0</td>\n",
       "      <td>1</td>\n",
       "      <td>0</td>\n",
       "      <td>0</td>\n",
       "      <td>0</td>\n",
       "      <td>0</td>\n",
       "      <td>0</td>\n",
       "      <td>0</td>\n",
       "      <td>0</td>\n",
       "    </tr>\n",
       "    <tr>\n",
       "      <th>4205</th>\n",
       "      <td>0</td>\n",
       "      <td>0</td>\n",
       "      <td>0</td>\n",
       "      <td>0</td>\n",
       "      <td>0</td>\n",
       "      <td>0</td>\n",
       "      <td>0</td>\n",
       "      <td>0</td>\n",
       "      <td>1</td>\n",
       "      <td>0</td>\n",
       "      <td>0</td>\n",
       "    </tr>\n",
       "    <tr>\n",
       "      <th>4206</th>\n",
       "      <td>0</td>\n",
       "      <td>0</td>\n",
       "      <td>0</td>\n",
       "      <td>0</td>\n",
       "      <td>0</td>\n",
       "      <td>0</td>\n",
       "      <td>0</td>\n",
       "      <td>0</td>\n",
       "      <td>0</td>\n",
       "      <td>1</td>\n",
       "      <td>0</td>\n",
       "    </tr>\n",
       "    <tr>\n",
       "      <th>4207</th>\n",
       "      <td>0</td>\n",
       "      <td>0</td>\n",
       "      <td>0</td>\n",
       "      <td>0</td>\n",
       "      <td>1</td>\n",
       "      <td>0</td>\n",
       "      <td>0</td>\n",
       "      <td>0</td>\n",
       "      <td>0</td>\n",
       "      <td>0</td>\n",
       "      <td>0</td>\n",
       "    </tr>\n",
       "    <tr>\n",
       "      <th>4208</th>\n",
       "      <td>1</td>\n",
       "      <td>0</td>\n",
       "      <td>0</td>\n",
       "      <td>0</td>\n",
       "      <td>0</td>\n",
       "      <td>0</td>\n",
       "      <td>0</td>\n",
       "      <td>0</td>\n",
       "      <td>0</td>\n",
       "      <td>0</td>\n",
       "      <td>0</td>\n",
       "    </tr>\n",
       "  </tbody>\n",
       "</table>\n",
       "<p>4209 rows × 11 columns</p>\n",
       "</div>"
      ],
      "text/plain": [
       "      ae  ai  ak  as  e  f  m  n  other  r  s\n",
       "0      0   0   0   0  0  0  0  0      1  0  0\n",
       "1      0   0   0   0  0  0  0  0      1  0  0\n",
       "2      0   0   0   0  0  0  0  1      0  0  0\n",
       "3      0   0   0   0  0  0  0  1      0  0  0\n",
       "4      0   0   0   0  0  0  0  1      0  0  0\n",
       "...   ..  ..  ..  .. .. .. .. ..    ... .. ..\n",
       "4204   0   0   0   1  0  0  0  0      0  0  0\n",
       "4205   0   0   0   0  0  0  0  0      1  0  0\n",
       "4206   0   0   0   0  0  0  0  0      0  1  0\n",
       "4207   0   0   0   0  1  0  0  0      0  0  0\n",
       "4208   1   0   0   0  0  0  0  0      0  0  0\n",
       "\n",
       "[4209 rows x 11 columns]"
      ]
     },
     "execution_count": 98,
     "metadata": {},
     "output_type": "execute_result"
    }
   ],
   "source": [
    "pd.get_dummies(df2['X2'])"
   ]
  },
  {
   "cell_type": "code",
   "execution_count": null,
   "id": "654a7268-25a1-473b-9324-a9f151ef27d2",
   "metadata": {},
   "outputs": [],
   "source": []
  }
 ],
 "metadata": {
  "kernelspec": {
   "display_name": "Python 3 (ipykernel)",
   "language": "python",
   "name": "python3"
  },
  "language_info": {
   "codemirror_mode": {
    "name": "ipython",
    "version": 3
   },
   "file_extension": ".py",
   "mimetype": "text/x-python",
   "name": "python",
   "nbconvert_exporter": "python",
   "pygments_lexer": "ipython3",
   "version": "3.9.12"
  }
 },
 "nbformat": 4,
 "nbformat_minor": 5
}
