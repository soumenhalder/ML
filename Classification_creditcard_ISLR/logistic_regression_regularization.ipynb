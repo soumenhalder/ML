{
 "cells": [
  {
   "cell_type": "code",
   "execution_count": 57,
   "metadata": {
    "ExecuteTime": {
     "end_time": "2022-05-21T09:41:37.890907Z",
     "start_time": "2022-05-21T09:41:37.881866Z"
    }
   },
   "outputs": [],
   "source": [
    "import pandas as pd\n",
    "from sklearn.preprocessing import StandardScaler\n",
    "\n",
    "from seaborn import pairplot \n",
    "from seaborn import boxplot\n",
    "from seaborn import countplot\n",
    "import matplotlib.pyplot as plt\n",
    "import numpy as np\n",
    "import math\n",
    "\n",
    "from sklearn.metrics import confusion_matrix, ConfusionMatrixDisplay\n",
    "from sklearn.metrics import accuracy_score\n",
    "\n",
    "plt.style.use('belle2')\n"
   ]
  },
  {
   "cell_type": "markdown",
   "metadata": {
    "ExecuteTime": {
     "end_time": "2022-05-11T10:29:26.882524Z",
     "start_time": "2022-05-11T10:29:26.874898Z"
    }
   },
   "source": [
    "# Define Logistic regression class"
   ]
  },
  {
   "cell_type": "code",
   "execution_count": 58,
   "metadata": {
    "ExecuteTime": {
     "end_time": "2022-05-21T09:41:38.581504Z",
     "start_time": "2022-05-21T09:41:38.565291Z"
    }
   },
   "outputs": [],
   "source": [
    "def logistic_fun(X,y,theta, MSE = False):\n",
    "    n = X.shape[0]\n",
    "\n",
    "    X =np.column_stack([np.ones((n,1)),X])\n",
    "    xth_y = (X.dot(theta))\n",
    "\n",
    "    htheta = (1+ math.e**(-xth_y))**(-1)\n",
    "    cost = -1/n * (np.log(htheta)*y+(1-y)*np.log(1-htheta)).sum()\n",
    "\n",
    "    return htheta, cost\n",
    "\n"
   ]
  },
  {
   "cell_type": "code",
   "execution_count": 84,
   "metadata": {
    "ExecuteTime": {
     "end_time": "2022-05-21T09:47:18.936854Z",
     "start_time": "2022-05-21T09:47:18.889864Z"
    }
   },
   "outputs": [],
   "source": [
    "\n",
    "class Logistic_regression: \n",
    "    def __init__(self, learning_rate=0.01, iterations=1000, MSE = False, lambd = 0.1, penalty = 'l2',\\\n",
    "                 saturationplot=False):\n",
    "        self.learning_rate, self.iterations, self.MSE, self.lambd, self.penalty, self.saturationplot = \\\n",
    "        learning_rate, iterations, MSE, lambd, penalty, saturationplot\n",
    "        \n",
    "\n",
    "    def logistic_fun(self,X,y,theta):\n",
    "        n = X.shape[0]\n",
    "        X =np.column_stack([np.ones((n,1)),X])\n",
    "        xth_y = (X.dot(theta))\n",
    "\n",
    "        htheta = (1+ math.e**(-xth_y))**(-1)\n",
    "\n",
    "        if self.penalty == 'l2':\n",
    "            # theta0 not taken in regulariation\n",
    "            thetal2 = theta.copy()\n",
    "            thetal2[0] = 0\n",
    "            cost = -1/n * (np.log(htheta)*y+(1-y)*np.log(1-htheta)).sum() +\\\n",
    "                                   self.lambd/(n)* np.absolute(thetal2).sum()\n",
    "            vfuncsgn = np.vectorize(self.sgn)\n",
    "            grad =    1/n *( (htheta-y).dot(X) + self.lambd * vfuncsgn(thetal2) )\n",
    "            del thetal2\n",
    "        elif self.penalty == 'l1':\n",
    "            # theta0 not taken in regulariation\n",
    "            thetal1 = theta.copy()\n",
    "            thetal1[0] = 0\n",
    "            cost = -1/n * (np.log(htheta)*y+(1-y)*np.log(1-htheta)).sum() +\\\n",
    "                             self.lambd/(2*n)* (thetal1**2).sum()\n",
    "            grad =    1/n *( (htheta-y).dot(X) + 2 * self.lambd * thetal1 )\n",
    "            del thetal1\n",
    "        elif self.penalty == 'none':                    \n",
    "            cost = -1/n * (np.log(htheta)*y+(1-y)*np.log(1-htheta)).sum()\n",
    "            grad =    1/n *( (htheta-y).dot(X) )\n",
    "        \n",
    "        return htheta, cost, grad\n",
    "\n",
    "    def fit(self, X, y):\n",
    "        theta = np.full((X.shape[1]+1,),0.01)\n",
    "        costlist = []\n",
    "        nitlist = []\n",
    "        \n",
    "        for nit in range(self.iterations):\n",
    "            htheta, cost, grad = self.logistic_fun(X, y, theta)\n",
    "            theta = theta - self.learning_rate * grad \n",
    "            \n",
    "            if nit % 10 == 0:\n",
    "                nitlist.append(nit)\n",
    "                costlist.append(cost)\n",
    "        if self.saturationplot :\n",
    "            plt.plot(np.array(nitlist),np.array(costlist),marker='o')\n",
    "            plt.xlabel('number of iteration')\n",
    "            plt.ylabel('Cost')\n",
    "            plt.show()\n",
    "\n",
    "        self.theta = theta\n",
    "        \n",
    "    def sgn(self, x):\n",
    "        if x > 0:\n",
    "            return 1\n",
    "        elif x < 0:\n",
    "            return -1\n",
    "        elif x == 0:\n",
    "            return 0\n",
    "\n",
    "\n",
    "\n",
    "    def predict(self, X, continuous= False):\n",
    "        n = X.shape[0]\n",
    "        \n",
    "        X =np.column_stack([np.ones((n,1)),X])\n",
    "        xth_y = (X.dot(self.theta))\n",
    "        htheta = (1+ math.e**(-xth_y))**(-1)\n",
    "        \n",
    "        if not continuous:\n",
    "            htheta[htheta > 0.5] = 1\n",
    "            htheta[htheta <= 0.5] = 0\n",
    "\n",
    "\n",
    "        \n",
    "        return htheta\n",
    "    \n",
    "    "
   ]
  },
  {
   "cell_type": "markdown",
   "metadata": {},
   "source": [
    "# Credit card dataset\n",
    " Here https://r-data.pmagunia.com/dataset/r-dataset-package-islr-default\n",
    " \n",
    " On this R-data statistics page, you will find information about the Default data set which pertains to Credit Card Default Data. The Default data set is found in the ISLR R package. You can load the Default data set in R by issuing the following command at the console data(\"Default\"). This will load the data into a variable called Default. If R says the Default data set is not found, you can try installing the package by issuing this command install.packages(\"ISLR\") and then attempt to reload the data. If you need to download R, you can go to the R project website. You can download a CSV (comma separated values) version of the Default R data set. The size of this file is about 433,674 bytes."
   ]
  },
  {
   "cell_type": "code",
   "execution_count": 60,
   "metadata": {
    "ExecuteTime": {
     "end_time": "2022-05-21T09:41:39.140422Z",
     "start_time": "2022-05-21T09:41:39.086400Z"
    }
   },
   "outputs": [
    {
     "data": {
      "text/html": [
       "<div>\n",
       "<style scoped>\n",
       "    .dataframe tbody tr th:only-of-type {\n",
       "        vertical-align: middle;\n",
       "    }\n",
       "\n",
       "    .dataframe tbody tr th {\n",
       "        vertical-align: top;\n",
       "    }\n",
       "\n",
       "    .dataframe thead th {\n",
       "        text-align: right;\n",
       "    }\n",
       "</style>\n",
       "<table border=\"1\" class=\"dataframe\">\n",
       "  <thead>\n",
       "    <tr style=\"text-align: right;\">\n",
       "      <th></th>\n",
       "      <th>default</th>\n",
       "      <th>student</th>\n",
       "      <th>balance</th>\n",
       "      <th>income</th>\n",
       "      <th>target</th>\n",
       "      <th>isstudent</th>\n",
       "    </tr>\n",
       "  </thead>\n",
       "  <tbody>\n",
       "    <tr>\n",
       "      <th>0</th>\n",
       "      <td>No</td>\n",
       "      <td>No</td>\n",
       "      <td>729.526495</td>\n",
       "      <td>44361.625074</td>\n",
       "      <td>1</td>\n",
       "      <td>1</td>\n",
       "    </tr>\n",
       "    <tr>\n",
       "      <th>1</th>\n",
       "      <td>No</td>\n",
       "      <td>Yes</td>\n",
       "      <td>817.180407</td>\n",
       "      <td>12106.134700</td>\n",
       "      <td>1</td>\n",
       "      <td>0</td>\n",
       "    </tr>\n",
       "    <tr>\n",
       "      <th>2</th>\n",
       "      <td>No</td>\n",
       "      <td>No</td>\n",
       "      <td>1073.549164</td>\n",
       "      <td>31767.138947</td>\n",
       "      <td>1</td>\n",
       "      <td>1</td>\n",
       "    </tr>\n",
       "    <tr>\n",
       "      <th>3</th>\n",
       "      <td>No</td>\n",
       "      <td>No</td>\n",
       "      <td>529.250605</td>\n",
       "      <td>35704.493935</td>\n",
       "      <td>1</td>\n",
       "      <td>1</td>\n",
       "    </tr>\n",
       "    <tr>\n",
       "      <th>4</th>\n",
       "      <td>No</td>\n",
       "      <td>No</td>\n",
       "      <td>785.655883</td>\n",
       "      <td>38463.495879</td>\n",
       "      <td>1</td>\n",
       "      <td>1</td>\n",
       "    </tr>\n",
       "  </tbody>\n",
       "</table>\n",
       "</div>"
      ],
      "text/plain": [
       "  default student      balance        income  target  isstudent\n",
       "0      No      No   729.526495  44361.625074       1          1\n",
       "1      No     Yes   817.180407  12106.134700       1          0\n",
       "2      No      No  1073.549164  31767.138947       1          1\n",
       "3      No      No   529.250605  35704.493935       1          1\n",
       "4      No      No   785.655883  38463.495879       1          1"
      ]
     },
     "execution_count": 60,
     "metadata": {},
     "output_type": "execute_result"
    }
   ],
   "source": [
    "df = pd.read_csv('dataset-63314.csv')\n",
    "# creating number target variable\n",
    "codes = {'Yes':0,'No':1}\n",
    "df['target'] = df['default'].map(codes)\n",
    "df['isstudent'] = df['student'].map(codes)\n",
    "df.head(5)"
   ]
  },
  {
   "cell_type": "code",
   "execution_count": 61,
   "metadata": {
    "ExecuteTime": {
     "end_time": "2022-05-21T09:41:39.230997Z",
     "start_time": "2022-05-21T09:41:39.205384Z"
    }
   },
   "outputs": [],
   "source": [
    "df = df.drop(columns=['default','student']).copy()\n",
    "\n",
    "\n",
    "x = df[['balance','income','isstudent']].copy()\n",
    "y  = df['target'].to_numpy()\n",
    "\n",
    "scaler = StandardScaler()\n",
    "scaler.fit(x)\n",
    "\n",
    "x = pd.DataFrame(scaler.transform(x))\n",
    "dfprime = pd.concat([df,x],axis=1)"
   ]
  },
  {
   "cell_type": "markdown",
   "metadata": {},
   "source": [
    "## Fit with logistic refgression"
   ]
  },
  {
   "cell_type": "markdown",
   "metadata": {},
   "source": [
    "### train test split"
   ]
  },
  {
   "cell_type": "code",
   "execution_count": null,
   "metadata": {
    "ExecuteTime": {
     "end_time": "2022-05-11T15:32:16.081519Z",
     "start_time": "2022-05-11T15:32:16.067291Z"
    }
   },
   "outputs": [],
   "source": []
  },
  {
   "cell_type": "code",
   "execution_count": 62,
   "metadata": {
    "ExecuteTime": {
     "end_time": "2022-05-21T09:41:39.762874Z",
     "start_time": "2022-05-21T09:41:39.751881Z"
    }
   },
   "outputs": [],
   "source": [
    "from sklearn.model_selection import train_test_split\n",
    "x_train, x_test, y_train, y_test = train_test_split(x, y, test_size=0.15, random_state=42)"
   ]
  },
  {
   "cell_type": "code",
   "execution_count": 63,
   "metadata": {
    "ExecuteTime": {
     "end_time": "2022-05-21T09:41:41.300689Z",
     "start_time": "2022-05-21T09:41:39.850489Z"
    }
   },
   "outputs": [
    {
     "data": {
      "text/plain": [
       "array([ 4.07596033, -1.49872991, -0.0773642 , -0.05041211])"
      ]
     },
     "execution_count": 63,
     "metadata": {},
     "output_type": "execute_result"
    }
   ],
   "source": [
    "clf = Logistic_regression( learning_rate=0.1, iterations=1000,penalty='none')\n",
    "clf.fit(x_train, y_train)\n",
    "clf.theta"
   ]
  },
  {
   "cell_type": "code",
   "execution_count": 64,
   "metadata": {
    "ExecuteTime": {
     "end_time": "2022-05-21T09:41:42.814250Z",
     "start_time": "2022-05-21T09:41:41.305536Z"
    }
   },
   "outputs": [
    {
     "data": {
      "text/plain": [
       "array([ 4.07205006, -1.49648449, -0.07723319, -0.05031381])"
      ]
     },
     "execution_count": 64,
     "metadata": {},
     "output_type": "execute_result"
    }
   ],
   "source": [
    "\n",
    "clf = Logistic_regression( learning_rate=0.1, iterations=1000, penalty='l1', lambd=0.1)\n",
    "clf.fit(x_train, y_train)\n",
    "clf.theta"
   ]
  },
  {
   "cell_type": "code",
   "execution_count": 65,
   "metadata": {
    "ExecuteTime": {
     "end_time": "2022-05-21T09:41:44.379508Z",
     "start_time": "2022-05-21T09:41:42.818463Z"
    }
   },
   "outputs": [
    {
     "data": {
      "text/plain": [
       "array([ 4.07525242, -1.49818831, -0.07705332, -0.05031721])"
      ]
     },
     "execution_count": 65,
     "metadata": {},
     "output_type": "execute_result"
    }
   ],
   "source": [
    "\n",
    "clf = Logistic_regression( learning_rate=0.1, iterations=1000, penalty='l2', lambd=0.1)\n",
    "clf.fit(x_train, y_train)\n",
    "clf.theta"
   ]
  },
  {
   "cell_type": "markdown",
   "metadata": {
    "ExecuteTime": {
     "end_time": "2022-05-11T12:17:50.795447Z",
     "start_time": "2022-05-11T12:17:50.791692Z"
    }
   },
   "source": [
    "## accuracy"
   ]
  },
  {
   "cell_type": "code",
   "execution_count": 66,
   "metadata": {
    "ExecuteTime": {
     "end_time": "2022-05-21T09:41:44.401495Z",
     "start_time": "2022-05-21T09:41:44.383870Z"
    }
   },
   "outputs": [
    {
     "data": {
      "text/plain": [
       "0.9703529411764706"
      ]
     },
     "execution_count": 66,
     "metadata": {},
     "output_type": "execute_result"
    }
   ],
   "source": [
    "y_pred = clf.predict(x_train)\n",
    "y_pred[y_pred > 0.5] = 1\n",
    "y_pred[y_pred <= 0.5] = 0\n",
    "accuracy_score(y_train, y_pred)"
   ]
  },
  {
   "cell_type": "code",
   "execution_count": 67,
   "metadata": {
    "ExecuteTime": {
     "end_time": "2022-05-21T09:41:44.424944Z",
     "start_time": "2022-05-21T09:41:44.405276Z"
    }
   },
   "outputs": [
    {
     "data": {
      "text/plain": [
       "0.9633333333333334"
      ]
     },
     "execution_count": 67,
     "metadata": {},
     "output_type": "execute_result"
    }
   ],
   "source": [
    "y_pred = clf.predict(x_test)\n",
    "y_pred[y_pred > 0.5] = 1\n",
    "y_pred[y_pred <= 0.5] = 0\n",
    "accuracy_score(y_test, y_pred)"
   ]
  },
  {
   "cell_type": "code",
   "execution_count": 68,
   "metadata": {
    "ExecuteTime": {
     "end_time": "2022-05-21T09:41:45.254589Z",
     "start_time": "2022-05-21T09:41:44.428310Z"
    }
   },
   "outputs": [
    {
     "data": {
      "image/png": "[encoded data removed]",
      "text/plain": [
       "<Figure size 576x396 with 2 Axes>"
      ]
     },
     "metadata": {},
     "output_type": "display_data"
    }
   ],
   "source": [
    "confusion_matrix(y_test, y_pred)\n",
    "cm = confusion_matrix(y_test, y_pred)\n",
    "        \n",
    "disp = ConfusionMatrixDisplay(confusion_matrix=cm, display_labels=['default = No','default=Yes'])\n",
    "disp.plot()\n",
    "plt.show()"
   ]
  },
  {
   "cell_type": "code",
   "execution_count": 69,
   "metadata": {
    "ExecuteTime": {
     "end_time": "2022-05-21T09:41:45.266731Z",
     "start_time": "2022-05-21T09:41:45.258650Z"
    }
   },
   "outputs": [
    {
     "data": {
      "text/plain": [
       "array([ 4.07525242, -1.49818831, -0.07705332, -0.05031721])"
      ]
     },
     "execution_count": 69,
     "metadata": {},
     "output_type": "execute_result"
    }
   ],
   "source": [
    "clf.theta"
   ]
  },
  {
   "cell_type": "markdown",
   "metadata": {},
   "source": [
    "## confusion matrix at differnt threshold"
   ]
  },
  {
   "cell_type": "code",
   "execution_count": 70,
   "metadata": {
    "ExecuteTime": {
     "end_time": "2022-05-21T09:41:45.278667Z",
     "start_time": "2022-05-21T09:41:45.272211Z"
    }
   },
   "outputs": [],
   "source": [
    "from sklearn.preprocessing import binarize\n",
    "y_pred = clf.predict(x_test,continuous=True)"
   ]
  },
  {
   "cell_type": "code",
   "execution_count": 71,
   "metadata": {
    "ExecuteTime": {
     "end_time": "2022-05-21T09:41:46.115926Z",
     "start_time": "2022-05-21T09:41:45.282781Z"
    }
   },
   "outputs": [
    {
     "data": {
      "image/png": "[encoded data removed]",
      "text/plain": [
       "<Figure size 576x396 with 2 Axes>"
      ]
     },
     "metadata": {},
     "output_type": "display_data"
    }
   ],
   "source": [
    "## threshold = 0.8\n",
    "y_pred2 = binarize(y_pred.reshape(1500,1),0.8).reshape(1500,)\n",
    "cm = confusion_matrix(y_test, y_pred2)\n",
    "disp = ConfusionMatrixDisplay(confusion_matrix=cm, display_labels=['default = No','default=Yes'])\n",
    "disp.plot()\n",
    "plt.show()"
   ]
  },
  {
   "cell_type": "markdown",
   "metadata": {},
   "source": [
    "# roc"
   ]
  },
  {
   "cell_type": "code",
   "execution_count": 72,
   "metadata": {
    "ExecuteTime": {
     "end_time": "2022-05-21T09:41:46.976008Z",
     "start_time": "2022-05-21T09:41:46.120200Z"
    }
   },
   "outputs": [
    {
     "data": {
      "image/png": "[encoded data removed]",
      "text/plain": [
       "<Figure size 576x396 with 1 Axes>"
      ]
     },
     "metadata": {},
     "output_type": "display_data"
    }
   ],
   "source": [
    "from sklearn.metrics import roc_curve\n",
    "\n",
    "y_pred2 = binarize(y_pred.reshape(1500,1),0.8).reshape(1500,)\n",
    "fpr, tpr, thresholds = roc_curve(y_test, y_pred2)\n",
    "plt.plot(fpr,tpr)\n",
    "plt.xlim([0.0, 1.0])\n",
    "plt.ylim([0.0, 1.0])\n",
    "plt.title('ROC curve for Heart disease classifier')\n",
    "plt.xlabel('False positive rate (1-Specificity)')\n",
    "plt.ylabel('True positive rate (Sensitivity)')\n",
    "plt.grid(True)\n"
   ]
  },
  {
   "cell_type": "code",
   "execution_count": null,
   "metadata": {},
   "outputs": [],
   "source": []
  },
  {
   "cell_type": "markdown",
   "metadata": {
    "ExecuteTime": {
     "end_time": "2022-05-11T15:32:52.175680Z",
     "start_time": "2022-05-11T15:32:52.052362Z"
    }
   },
   "source": [
    "# other dataset"
   ]
  },
  {
   "cell_type": "code",
   "execution_count": 73,
   "metadata": {
    "ExecuteTime": {
     "end_time": "2022-05-21T09:41:47.077530Z",
     "start_time": "2022-05-21T09:41:46.979517Z"
    },
    "scrolled": true
   },
   "outputs": [],
   "source": [
    "\n",
    "#%% import dataset \n",
    "data = pd.read_csv(\"data.csv\")\n",
    "data.drop(['Unnamed: 32',\"id\"], axis=1, inplace=True)\n",
    "data.diagnosis = [1 if each == \"M\" else 0 for each in data.diagnosis]\n",
    "y = data.diagnosis.values\n",
    "x_data = data.drop(['diagnosis'], axis=1)\n",
    "\n",
    "# adding a arbitary variable to check effect of regularization\n",
    "blah1 = np.random.rand(569,)\n",
    "blah2 = np.random.rand(569,)\n",
    "blah3 = np.random.rand(569,)\n",
    "\n",
    "x_data.loc[:,'blah1'] = blah1\n",
    "x_data.loc[:,'blah2'] = blah2\n",
    "x_data.loc[:,'blah3'] = blah3\n",
    "\n",
    "\n",
    "# %% normalization\n",
    "x = (x_data -np.min(x_data))/(np.max(x_data)-np.min(x_data)).values"
   ]
  },
  {
   "cell_type": "code",
   "execution_count": null,
   "metadata": {
    "ExecuteTime": {
     "end_time": "2022-05-21T09:36:19.949041Z",
     "start_time": "2022-05-21T09:36:19.941068Z"
    }
   },
   "outputs": [],
   "source": []
  },
  {
   "cell_type": "code",
   "execution_count": null,
   "metadata": {
    "ExecuteTime": {
     "end_time": "2022-05-11T16:24:10.150782Z",
     "start_time": "2022-05-11T16:24:10.113020Z"
    }
   },
   "outputs": [],
   "source": []
  },
  {
   "cell_type": "markdown",
   "metadata": {},
   "source": [
    "## No penalty"
   ]
  },
  {
   "cell_type": "code",
   "execution_count": 74,
   "metadata": {
    "ExecuteTime": {
     "end_time": "2022-05-21T09:41:47.466923Z",
     "start_time": "2022-05-21T09:41:47.080969Z"
    },
    "scrolled": true
   },
   "outputs": [
    {
     "name": "stdout",
     "output_type": "stream",
     "text": [
      "theta [-3.31636226  0.82781355  0.39335459  0.8841457   0.96200742 -0.29871844\n",
      "  0.65658482  1.39644591  1.75122924 -0.2144233  -0.90762338  0.68195209\n",
      " -0.41300703  0.5746818   0.57280416 -0.4984919  -0.14610747 -0.11446811\n",
      " -0.04406052 -0.44751534 -0.3379342   1.28432684  0.69353002  1.2411489\n",
      "  1.14453026  0.24978897  0.83535006  1.1200335   1.81107628  0.43081841\n",
      "  0.14723146 -0.36039131 -0.68059359 -0.92002364]\n",
      "train score 0.9358178053830227\n",
      "test score 0.9651162790697675\n"
     ]
    }
   ],
   "source": [
    "x_train, x_test, y_train, y_test = train_test_split(x, y, test_size=0.15, random_state=42)\n",
    "clf = Logistic_regression( learning_rate=0.1, iterations=1000, penalty='none')\n",
    "clf.fit(x_train, y_train)\n",
    "print('theta',clf.theta)\n",
    "\n",
    "\n",
    "y_pred = clf.predict(x_train,continuous=False)\n",
    "print('train score',accuracy_score(y_train, y_pred))\n",
    "\n",
    "y_pred = clf.predict(x_test,continuous=False)\n",
    "print('test score',accuracy_score(y_test, y_pred))\n"
   ]
  },
  {
   "cell_type": "markdown",
   "metadata": {
    "ExecuteTime": {
     "end_time": "2022-05-11T16:21:00.681092Z",
     "start_time": "2022-05-11T16:21:00.677554Z"
    }
   },
   "source": [
    "## Lasso regression"
   ]
  },
  {
   "cell_type": "code",
   "execution_count": null,
   "metadata": {
    "ExecuteTime": {
     "end_time": "2022-05-21T09:32:13.774515Z",
     "start_time": "2022-05-21T09:32:13.761121Z"
    }
   },
   "outputs": [],
   "source": []
  },
  {
   "cell_type": "code",
   "execution_count": 88,
   "metadata": {
    "ExecuteTime": {
     "end_time": "2022-05-21T09:48:04.417447Z",
     "start_time": "2022-05-21T09:48:03.955898Z"
    }
   },
   "outputs": [
    {
     "name": "stdout",
     "output_type": "stream",
     "text": [
      "theta [-3.32680126e+00  7.49488617e-01  2.59469925e-01  8.06392088e-01\n",
      "  8.63945969e-01 -8.43720198e-02  5.18571103e-01  1.28379632e+00\n",
      "  1.66615020e+00 -1.96239800e-03 -7.48126517e-01  5.14780399e-01\n",
      " -2.37157147e-01  4.05829730e-01  4.03628541e-01 -3.34344154e-01\n",
      " -2.96226664e-02 -3.42553246e-04 -2.98367180e-04 -2.79721723e-01\n",
      " -1.57269630e-01  1.21849704e+00  5.73106575e-01  1.17154718e+00\n",
      "  1.04386023e+00  1.09742700e-01  7.18088874e-01  1.01400723e+00\n",
      "  1.77139114e+00  2.66176707e-01 -3.43094332e-05 -2.34536377e-01\n",
      " -5.33369705e-01 -8.01009624e-01]\n",
      "train score 0.9358178053830227\n",
      "test score 0.9651162790697675\n"
     ]
    }
   ],
   "source": [
    "x_train, x_test, y_train, y_test = train_test_split(x, y, test_size=0.15, random_state=42)\n",
    "clf = Logistic_regression( learning_rate=0.1, iterations=1000, penalty='l2', lambd=1)\n",
    "clf.fit(x_train, y_train)\n",
    "\n",
    "print('theta',clf.theta)\n",
    "\n",
    "\n",
    "y_pred = clf.predict(x_train,continuous=False)\n",
    "print('train score',accuracy_score(y_train, y_pred))\n",
    "\n",
    "y_pred = clf.predict(x_test,continuous=False)\n",
    "print('test score',accuracy_score(y_test, y_pred))\n"
   ]
  },
  {
   "cell_type": "code",
   "execution_count": null,
   "metadata": {},
   "outputs": [],
   "source": []
  },
  {
   "cell_type": "markdown",
   "metadata": {},
   "source": [
    "<div class=\"girk\">\n",
    "<span class=\"burk\">Look at the coefficient value for lasso regularization, they got lower value.</span></div><i class=\"fa fa-lightbulb-o \"></i>"
   ]
  },
  {
   "cell_type": "markdown",
   "metadata": {},
   "source": [
    "## Ridge regression"
   ]
  },
  {
   "cell_type": "code",
   "execution_count": 76,
   "metadata": {
    "ExecuteTime": {
     "end_time": "2022-05-21T09:41:48.373017Z",
     "start_time": "2022-05-21T09:41:47.995728Z"
    }
   },
   "outputs": [
    {
     "name": "stdout",
     "output_type": "stream",
     "text": [
      "theta [-2.79999844  0.70028715  0.31869558  0.74833337  0.8116477  -0.25583343\n",
      "  0.56312858  1.1851727   1.48024598 -0.18294958 -0.76225195  0.57001443\n",
      " -0.35518361  0.48106903  0.47881014 -0.42540864 -0.11228886 -0.09115553\n",
      " -0.03158932 -0.3797387  -0.27955653  1.08239442  0.56729966  1.04723666\n",
      "  0.96315097  0.20289598  0.71249188  0.95271847  1.53403581  0.3568423\n",
      "  0.12694149 -0.33242448 -0.59530309 -0.8083301 ]\n",
      "train score 0.9337474120082816\n",
      "test score 0.9651162790697675\n"
     ]
    }
   ],
   "source": [
    "x_train, x_test, y_train, y_test = train_test_split(x, y, test_size=0.15, random_state=42)\n",
    "clf = Logistic_regression( learning_rate=0.1, iterations=1000, penalty='l1', lambd=1)\n",
    "clf.fit(x_train, y_train)\n",
    "print('theta',clf.theta)\n",
    "\n",
    "y_pred = clf.predict(x_train,continuous=False)\n",
    "print('train score',accuracy_score(y_train, y_pred))\n",
    "\n",
    "y_pred = clf.predict(x_test,continuous=False)\n",
    "print('test score',accuracy_score(y_test, y_pred))\n"
   ]
  },
  {
   "cell_type": "code",
   "execution_count": null,
   "metadata": {},
   "outputs": [],
   "source": []
  },
  {
   "cell_type": "markdown",
   "metadata": {
    "ExecuteTime": {
     "end_time": "2022-05-11T15:48:51.971014Z",
     "start_time": "2022-05-11T15:48:51.966335Z"
    }
   },
   "source": [
    "## cross validation to find $\\lambda$"
   ]
  },
  {
   "cell_type": "code",
   "execution_count": 95,
   "metadata": {
    "ExecuteTime": {
     "end_time": "2022-05-21T09:51:29.048416Z",
     "start_time": "2022-05-21T09:51:19.794849Z"
    }
   },
   "outputs": [
    {
     "name": "stdout",
     "output_type": "stream",
     "text": [
      "lambda    train score     test score\n",
      "0.0001 0.9348148148148148 0.9066666666666668\n",
      "0.0005 0.9337037037037037 0.9133333333333334\n",
      "0.001 0.934567901234568 0.9133333333333334\n",
      "0.01 0.9338888888888889 0.9116666666666667\n",
      "0.1 0.9340740740740741 0.912\n"
     ]
    }
   ],
   "source": [
    "from sklearn.model_selection import KFold\n",
    "from sklearn.neighbors import KNeighborsClassifier\n",
    "from sklearn import metrics\n",
    "score1 = []\n",
    "score2 = []\n",
    "kf = KFold(n_splits=10,shuffle=True)\n",
    "\n",
    "print('lambda   ','train score    ','test score')\n",
    "for lambd in [0.0001,0.0005,0.001, 0.01,0.1]:\n",
    "    for train_index, test_index in kf.split(range(150)):\n",
    "\n",
    "        X_train = np.take(x,train_index,axis=0)\n",
    "        X_test = np.take(x,test_index,axis=0)\n",
    "        y_train = np.take(y,train_index,axis=0)\n",
    "        y_test = np.take(y,test_index,axis=0)\n",
    "\n",
    "        mod_dt = clf = Logistic_regression( learning_rate=0.1, iterations=1000, penalty='none', lambd=lambd)#KNeighborsClassifier(n_neighbors=2)\n",
    "        mod_dt.fit(X_train,y_train)\n",
    "\n",
    "        prediction=mod_dt.predict(X_test,continuous = False)\n",
    "        score_test = metrics.accuracy_score(prediction,y_test)\n",
    "        #print('The accuracy of the Decision Tree is',\"{:.3f}\".format(score_test))\n",
    "\n",
    "        prediction=mod_dt.predict(X_train,continuous = False)\n",
    "        score_train = metrics.accuracy_score(prediction,y_train)\n",
    "        #print('The training data score is ',\"{:.3f} \\n\".format(score_train))\n",
    "\n",
    "        score1.append(score_train)\n",
    "        score2.append(score_test)\n",
    "    \n",
    "    print(lambd,np.array(score1).mean(),np.array(score2).mean())\n"
   ]
  },
  {
   "cell_type": "markdown",
   "metadata": {
    "ExecuteTime": {
     "end_time": "2022-05-11T16:02:43.181112Z",
     "start_time": "2022-05-11T16:02:43.174866Z"
    }
   },
   "source": [
    " L1 regularization\n",
    "\n",
    "lambda | train score | test score\n",
    "-------|----------------------|-----------------\n",
    "0.0001 |0.9340740740740742 |0.9199999999999999\n",
    "0.0005 |0.9337037037037037 |0.9200000000000002\n",
    "0.001 |0.9330864197530866 |0.9177777777777778\n",
    "0.01 |0.9333333333333333 |0.9133333333333333\n",
    "0.1 |0.9334814814814816| 0.9133333333333333\n",
    "\n",
    "\n",
    "L2 regularization\n",
    "\n",
    "lambda | train score | test score\n",
    "-------|----------------------|-----------------\n",
    "0.0001 | 0.9340740740740741 | 0.9200000000000002\n",
    "0.0005| 0.9362962962962962 |0.9200000000000002\n",
    "0.001| 0.9355555555555557 |0.9222222222222223\n",
    "0.01| 0.9351851851851851 |0.9199999999999999\n",
    "0.1 |0.9348148148148147 |0.9186666666666666\n",
    "\n",
    "\n",
    "no regularization\n",
    "\n",
    "lambda | train score | test score\n",
    "-------|----------------------|-----------------\n",
    "0.0001 |0.9348148148148148 |0.9066666666666668\n",
    "0.0005| 0.9337037037037037| 0.9133333333333334\n",
    "0.001 |0.934567901234568 |0.9133333333333334\n",
    "0.01 |0.9338888888888889| 0.9116666666666667\n",
    "0.1 |0.9340740740740741 |0.912\n"
   ]
  },
  {
   "cell_type": "code",
   "execution_count": null,
   "metadata": {},
   "outputs": [],
   "source": []
  }
 ],
 "metadata": {
  "hide_input": false,
  "kernelspec": {
   "display_name": "Python 3",
   "language": "python",
   "name": "python3"
  },
  "language_info": {
   "codemirror_mode": {
    "name": "ipython",
    "version": 3
   },
   "file_extension": ".py",
   "mimetype": "text/x-python",
   "name": "python",
   "nbconvert_exporter": "python",
   "pygments_lexer": "ipython3",
   "version": "3.7.6"
  },
  "latex_envs": {
   "LaTeX_envs_menu_present": true,
   "autoclose": false,
   "autocomplete": true,
   "bibliofile": "biblio.bib",
   "cite_by": "apalike",
   "current_citInitial": 1,
   "eqLabelWithNumbers": true,
   "eqNumInitial": 1,
   "hotkeys": {
    "equation": "Ctrl-E",
    "itemize": "Ctrl-I"
   },
   "labels_anchors": false,
   "latex_user_defs": false,
   "report_style_numbering": false,
   "user_envs_cfg": false
  },
  "toc": {
   "base_numbering": 1,
   "nav_menu": {},
   "number_sections": true,
   "sideBar": true,
   "skip_h1_title": false,
   "title_cell": "Table of Contents",
   "title_sidebar": "Contents",
   "toc_cell": false,
   "toc_position": {},
   "toc_section_display": true,
   "toc_window_display": true
  }
 },
 "nbformat": 4,
 "nbformat_minor": 4
}
