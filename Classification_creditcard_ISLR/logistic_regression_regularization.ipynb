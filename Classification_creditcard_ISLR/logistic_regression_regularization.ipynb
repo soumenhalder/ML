{
 "cells": [
  {
   "cell_type": "code",
   "execution_count": 2,
   "metadata": {
    "ExecuteTime": {
     "end_time": "2022-05-11T16:10:35.466333Z",
     "start_time": "2022-05-11T16:10:35.460112Z"
    }
   },
   "outputs": [],
   "source": [
    "import pandas as pd\n",
    "from sklearn.preprocessing import StandardScaler\n",
    "\n",
    "from seaborn import pairplot \n",
    "from seaborn import boxplot\n",
    "from seaborn import countplot\n",
    "import matplotlib.pyplot as plt\n",
    "import numpy as np\n",
    "import math\n",
    "\n",
    "from sklearn.metrics import confusion_matrix, ConfusionMatrixDisplay\n",
    "from sklearn.metrics import accuracy_score\n",
    "\n",
    "plt.style.use('belle2')\n"
   ]
  },
  {
   "cell_type": "markdown",
   "metadata": {
    "ExecuteTime": {
     "end_time": "2022-05-11T10:29:26.882524Z",
     "start_time": "2022-05-11T10:29:26.874898Z"
    }
   },
   "source": [
    "# Define Logistic regression class"
   ]
  },
  {
   "cell_type": "code",
   "execution_count": 3,
   "metadata": {
    "ExecuteTime": {
     "end_time": "2022-05-11T16:10:36.345050Z",
     "start_time": "2022-05-11T16:10:36.335989Z"
    }
   },
   "outputs": [],
   "source": [
    "def logistic_fun(X,y,theta, MSE = False):\n",
    "    n = X.shape[0]\n",
    "\n",
    "    X =np.column_stack([np.ones((n,1)),X])\n",
    "    xth_y = (X.dot(theta))\n",
    "\n",
    "    htheta = (1+ math.e**(-xth_y))**(-1)\n",
    "    cost = -1/n * (np.log(htheta)*y+(1-y)*np.log(1-htheta)).sum()\n",
    "\n",
    "    return htheta, cost\n",
    "\n"
   ]
  },
  {
   "cell_type": "code",
   "execution_count": 12,
   "metadata": {
    "ExecuteTime": {
     "end_time": "2022-05-11T16:13:13.114734Z",
     "start_time": "2022-05-11T16:13:13.092231Z"
    }
   },
   "outputs": [],
   "source": [
    "\n",
    "class Logistic_regression: \n",
    "    def __init__(self, learning_rate=0.01, iterations=1000, MSE = False, lambd = 0.1, penalty = 'l2',\\\n",
    "                 saturationplot=False):\n",
    "        self.learning_rate, self.iterations, self.MSE, self.lambd, self.penalty, self.saturationplot = \\\n",
    "        learning_rate, iterations, MSE, lambd, penalty, saturationplot\n",
    "        \n",
    "\n",
    "    def logistic_fun(self,X,y,theta):\n",
    "        n = X.shape[0]\n",
    "        X =np.column_stack([np.ones((n,1)),X])\n",
    "        xth_y = (X.dot(theta))\n",
    "\n",
    "        htheta = (1+ math.e**(-xth_y))**(-1)\n",
    "        cost = -1/n * (np.log(htheta)*y+(1-y)*np.log(1-htheta)).sum()\n",
    "\n",
    "        if self.penalty == 'l2':\n",
    "            vfuncsgn = np.vectorize(self.sgn)\n",
    "            grad =    1/n *( (htheta-y).dot(X) + self.lambd * vfuncsgn(theta) )\n",
    "        elif self.penalty == 'l1':\n",
    "            grad =    1/n *( (htheta-y).dot(X) + 2 * self.lambd * theta )\n",
    "        elif self.penalty == 'none':\n",
    "            grad =    1/n *( (htheta-y).dot(X) )\n",
    "        \n",
    "        return htheta, cost, grad\n",
    "\n",
    "    def fit(self, X, y):\n",
    "        theta = np.full((X.shape[1]+1,),0.01)\n",
    "        costlist = []\n",
    "        nitlist = []\n",
    "        \n",
    "        for nit in range(self.iterations):\n",
    "            htheta, cost, grad = self.logistic_fun(X, y, theta)\n",
    "            theta = theta - self.learning_rate * grad \n",
    "            \n",
    "            if nit % 10 == 0:\n",
    "                nitlist.append(nit)\n",
    "                costlist.append(cost)\n",
    "        if self.saturationplot :\n",
    "            plt.plot(np.array(nitlist),np.array(costlist),marker='o')\n",
    "            plt.xlabel('number of iteration')\n",
    "            plt.ylabel('Cost')\n",
    "            plt.show()\n",
    "\n",
    "        self.theta = theta\n",
    "        \n",
    "    def sgn(self, x):\n",
    "        if x > 0:\n",
    "            return 1\n",
    "        elif x < 0:\n",
    "            return -1\n",
    "        elif x == 0:\n",
    "            return 0\n",
    "\n",
    "\n",
    "\n",
    "    def predict(self, X, continuous= False):\n",
    "        n = X.shape[0]\n",
    "        \n",
    "        X =np.column_stack([np.ones((n,1)),X])\n",
    "        xth_y = (X.dot(self.theta))\n",
    "        htheta = (1+ math.e**(-xth_y))**(-1)\n",
    "        \n",
    "        if not continuous:\n",
    "            htheta[htheta > 0.5] = 1\n",
    "            htheta[htheta <= 0.5] = 0\n",
    "\n",
    "\n",
    "        \n",
    "        return htheta\n",
    "    \n",
    "    "
   ]
  },
  {
   "cell_type": "markdown",
   "metadata": {},
   "source": [
    "# Credit card dataset\n",
    " Here https://r-data.pmagunia.com/dataset/r-dataset-package-islr-default\n",
    " \n",
    " On this R-data statistics page, you will find information about the Default data set which pertains to Credit Card Default Data. The Default data set is found in the ISLR R package. You can load the Default data set in R by issuing the following command at the console data(\"Default\"). This will load the data into a variable called Default. If R says the Default data set is not found, you can try installing the package by issuing this command install.packages(\"ISLR\") and then attempt to reload the data. If you need to download R, you can go to the R project website. You can download a CSV (comma separated values) version of the Default R data set. The size of this file is about 433,674 bytes."
   ]
  },
  {
   "cell_type": "code",
   "execution_count": 6,
   "metadata": {
    "ExecuteTime": {
     "end_time": "2022-05-11T16:10:58.691877Z",
     "start_time": "2022-05-11T16:10:58.649392Z"
    }
   },
   "outputs": [
    {
     "data": {
      "text/html": [
       "<div>\n",
       "<style scoped>\n",
       "    .dataframe tbody tr th:only-of-type {\n",
       "        vertical-align: middle;\n",
       "    }\n",
       "\n",
       "    .dataframe tbody tr th {\n",
       "        vertical-align: top;\n",
       "    }\n",
       "\n",
       "    .dataframe thead th {\n",
       "        text-align: right;\n",
       "    }\n",
       "</style>\n",
       "<table border=\"1\" class=\"dataframe\">\n",
       "  <thead>\n",
       "    <tr style=\"text-align: right;\">\n",
       "      <th></th>\n",
       "      <th>default</th>\n",
       "      <th>student</th>\n",
       "      <th>balance</th>\n",
       "      <th>income</th>\n",
       "      <th>target</th>\n",
       "      <th>isstudent</th>\n",
       "    </tr>\n",
       "  </thead>\n",
       "  <tbody>\n",
       "    <tr>\n",
       "      <th>0</th>\n",
       "      <td>No</td>\n",
       "      <td>No</td>\n",
       "      <td>729.526495</td>\n",
       "      <td>44361.625074</td>\n",
       "      <td>1</td>\n",
       "      <td>1</td>\n",
       "    </tr>\n",
       "    <tr>\n",
       "      <th>1</th>\n",
       "      <td>No</td>\n",
       "      <td>Yes</td>\n",
       "      <td>817.180407</td>\n",
       "      <td>12106.134700</td>\n",
       "      <td>1</td>\n",
       "      <td>0</td>\n",
       "    </tr>\n",
       "    <tr>\n",
       "      <th>2</th>\n",
       "      <td>No</td>\n",
       "      <td>No</td>\n",
       "      <td>1073.549164</td>\n",
       "      <td>31767.138947</td>\n",
       "      <td>1</td>\n",
       "      <td>1</td>\n",
       "    </tr>\n",
       "    <tr>\n",
       "      <th>3</th>\n",
       "      <td>No</td>\n",
       "      <td>No</td>\n",
       "      <td>529.250605</td>\n",
       "      <td>35704.493935</td>\n",
       "      <td>1</td>\n",
       "      <td>1</td>\n",
       "    </tr>\n",
       "    <tr>\n",
       "      <th>4</th>\n",
       "      <td>No</td>\n",
       "      <td>No</td>\n",
       "      <td>785.655883</td>\n",
       "      <td>38463.495879</td>\n",
       "      <td>1</td>\n",
       "      <td>1</td>\n",
       "    </tr>\n",
       "  </tbody>\n",
       "</table>\n",
       "</div>"
      ],
      "text/plain": [
       "  default student      balance        income  target  isstudent\n",
       "0      No      No   729.526495  44361.625074       1          1\n",
       "1      No     Yes   817.180407  12106.134700       1          0\n",
       "2      No      No  1073.549164  31767.138947       1          1\n",
       "3      No      No   529.250605  35704.493935       1          1\n",
       "4      No      No   785.655883  38463.495879       1          1"
      ]
     },
     "execution_count": 6,
     "metadata": {},
     "output_type": "execute_result"
    }
   ],
   "source": [
    "df = pd.read_csv('dataset-63314.csv')\n",
    "# creating number target variable\n",
    "codes = {'Yes':0,'No':1}\n",
    "df['target'] = df['default'].map(codes)\n",
    "df['isstudent'] = df['student'].map(codes)\n",
    "df.head(5)"
   ]
  },
  {
   "cell_type": "code",
   "execution_count": 7,
   "metadata": {
    "ExecuteTime": {
     "end_time": "2022-05-11T16:11:00.188430Z",
     "start_time": "2022-05-11T16:11:00.171240Z"
    }
   },
   "outputs": [],
   "source": [
    "df = df.drop(columns=['default','student']).copy()\n",
    "\n",
    "\n",
    "x = df[['balance','income','isstudent']].copy()\n",
    "y  = df['target'].to_numpy()\n",
    "\n",
    "scaler = StandardScaler()\n",
    "scaler.fit(x)\n",
    "\n",
    "x = pd.DataFrame(scaler.transform(x))\n",
    "dfprime = pd.concat([df,x],axis=1)"
   ]
  },
  {
   "cell_type": "markdown",
   "metadata": {},
   "source": [
    "## Fit with logistic refgression"
   ]
  },
  {
   "cell_type": "markdown",
   "metadata": {},
   "source": [
    "### train test split"
   ]
  },
  {
   "cell_type": "code",
   "execution_count": null,
   "metadata": {
    "ExecuteTime": {
     "end_time": "2022-05-11T15:32:16.081519Z",
     "start_time": "2022-05-11T15:32:16.067291Z"
    }
   },
   "outputs": [],
   "source": []
  },
  {
   "cell_type": "code",
   "execution_count": 14,
   "metadata": {
    "ExecuteTime": {
     "end_time": "2022-05-11T16:13:23.905036Z",
     "start_time": "2022-05-11T16:13:23.898143Z"
    }
   },
   "outputs": [],
   "source": [
    "from sklearn.model_selection import train_test_split\n",
    "x_train, x_test, y_train, y_test = train_test_split(x, y, test_size=0.15, random_state=42)"
   ]
  },
  {
   "cell_type": "code",
   "execution_count": 15,
   "metadata": {
    "ExecuteTime": {
     "end_time": "2022-05-11T16:13:25.128815Z",
     "start_time": "2022-05-11T16:13:24.396058Z"
    }
   },
   "outputs": [
    {
     "data": {
      "text/plain": [
       "array([ 4.07596033, -1.49872991, -0.0773642 , -0.05041211])"
      ]
     },
     "execution_count": 15,
     "metadata": {},
     "output_type": "execute_result"
    }
   ],
   "source": [
    "clf = Logistic_regression( learning_rate=0.1, iterations=1000,penalty='none')\n",
    "clf.fit(x_train, y_train)\n",
    "clf.theta"
   ]
  },
  {
   "cell_type": "code",
   "execution_count": 16,
   "metadata": {
    "ExecuteTime": {
     "end_time": "2022-05-11T16:13:26.489092Z",
     "start_time": "2022-05-11T16:13:25.791836Z"
    }
   },
   "outputs": [
    {
     "data": {
      "text/plain": [
       "array([ 4.07205006, -1.49648449, -0.07723319, -0.05031381])"
      ]
     },
     "execution_count": 16,
     "metadata": {},
     "output_type": "execute_result"
    }
   ],
   "source": [
    "\n",
    "clf = Logistic_regression( learning_rate=0.1, iterations=1000, penalty='l1', lambd=0.1)\n",
    "clf.fit(x_train, y_train)\n",
    "clf.theta"
   ]
  },
  {
   "cell_type": "code",
   "execution_count": 17,
   "metadata": {
    "ExecuteTime": {
     "end_time": "2022-05-11T16:13:27.671814Z",
     "start_time": "2022-05-11T16:13:26.906868Z"
    }
   },
   "outputs": [
    {
     "data": {
      "text/plain": [
       "array([ 4.07525242, -1.49818831, -0.07705332, -0.05031721])"
      ]
     },
     "execution_count": 17,
     "metadata": {},
     "output_type": "execute_result"
    }
   ],
   "source": [
    "\n",
    "clf = Logistic_regression( learning_rate=0.1, iterations=1000, penalty='l2', lambd=0.1)\n",
    "clf.fit(x_train, y_train)\n",
    "clf.theta"
   ]
  },
  {
   "cell_type": "markdown",
   "metadata": {
    "ExecuteTime": {
     "end_time": "2022-05-11T12:17:50.795447Z",
     "start_time": "2022-05-11T12:17:50.791692Z"
    }
   },
   "source": [
    "## accuracy"
   ]
  },
  {
   "cell_type": "code",
   "execution_count": 18,
   "metadata": {
    "ExecuteTime": {
     "end_time": "2022-05-11T16:13:33.895596Z",
     "start_time": "2022-05-11T16:13:33.886189Z"
    }
   },
   "outputs": [
    {
     "data": {
      "text/plain": [
       "0.9703529411764706"
      ]
     },
     "execution_count": 18,
     "metadata": {},
     "output_type": "execute_result"
    }
   ],
   "source": [
    "y_pred = clf.predict(x_train)\n",
    "y_pred[y_pred > 0.5] = 1\n",
    "y_pred[y_pred <= 0.5] = 0\n",
    "accuracy_score(y_train, y_pred)"
   ]
  },
  {
   "cell_type": "code",
   "execution_count": 19,
   "metadata": {
    "ExecuteTime": {
     "end_time": "2022-05-11T16:13:34.407567Z",
     "start_time": "2022-05-11T16:13:34.400013Z"
    }
   },
   "outputs": [
    {
     "data": {
      "text/plain": [
       "0.9633333333333334"
      ]
     },
     "execution_count": 19,
     "metadata": {},
     "output_type": "execute_result"
    }
   ],
   "source": [
    "y_pred = clf.predict(x_test)\n",
    "y_pred[y_pred > 0.5] = 1\n",
    "y_pred[y_pred <= 0.5] = 0\n",
    "accuracy_score(y_test, y_pred)"
   ]
  },
  {
   "cell_type": "code",
   "execution_count": 20,
   "metadata": {
    "ExecuteTime": {
     "end_time": "2022-05-11T16:13:36.541803Z",
     "start_time": "2022-05-11T16:13:35.931092Z"
    }
   },
   "outputs": [
    {
     "data": {
      "image/png": "[encoded data removed]",
      "text/plain": [
       "<Figure size 576x396 with 2 Axes>"
      ]
     },
     "metadata": {},
     "output_type": "display_data"
    }
   ],
   "source": [
    "confusion_matrix(y_test, y_pred)\n",
    "cm = confusion_matrix(y_test, y_pred)\n",
    "        \n",
    "disp = ConfusionMatrixDisplay(confusion_matrix=cm, display_labels=['default = No','default=Yes'])\n",
    "disp.plot()\n",
    "plt.show()"
   ]
  },
  {
   "cell_type": "code",
   "execution_count": 21,
   "metadata": {
    "ExecuteTime": {
     "end_time": "2022-05-11T16:13:38.718554Z",
     "start_time": "2022-05-11T16:13:38.714142Z"
    }
   },
   "outputs": [
    {
     "data": {
      "text/plain": [
       "array([ 4.07525242, -1.49818831, -0.07705332, -0.05031721])"
      ]
     },
     "execution_count": 21,
     "metadata": {},
     "output_type": "execute_result"
    }
   ],
   "source": [
    "clf.theta"
   ]
  },
  {
   "cell_type": "markdown",
   "metadata": {
    "ExecuteTime": {
     "end_time": "2022-05-11T15:32:52.175680Z",
     "start_time": "2022-05-11T15:32:52.052362Z"
    }
   },
   "source": [
    "# other dataset"
   ]
  },
  {
   "cell_type": "code",
   "execution_count": 69,
   "metadata": {
    "ExecuteTime": {
     "end_time": "2022-05-11T16:26:22.866681Z",
     "start_time": "2022-05-11T16:26:22.818250Z"
    },
    "scrolled": true
   },
   "outputs": [],
   "source": [
    "\n",
    "#%% import dataset \n",
    "data = pd.read_csv(\"data.csv\")\n",
    "data.drop(['Unnamed: 32',\"id\"], axis=1, inplace=True)\n",
    "data.diagnosis = [1 if each == \"M\" else 0 for each in data.diagnosis]\n",
    "y = data.diagnosis.values\n",
    "x_data = data.drop(['diagnosis'], axis=1)\n",
    "\n",
    "# adding a arbitary variable to check effect of regularization\n",
    "blah1 = np.random.rand(569,)\n",
    "blah2 = np.random.rand(569,)\n",
    "blah3 = np.random.rand(569,)\n",
    "\n",
    "x.loc[:,'blah1'] = blah1\n",
    "x.loc[:,'blah2'] = blah2\n",
    "x.loc[:,'blah3'] = blah3\n",
    "\n",
    "\n",
    "# %% normalization\n",
    "x = (x_data -np.min(x_data))/(np.max(x_data)-np.min(x_data)).values"
   ]
  },
  {
   "cell_type": "code",
   "execution_count": 57,
   "metadata": {
    "ExecuteTime": {
     "end_time": "2022-05-11T16:23:14.362861Z",
     "start_time": "2022-05-11T16:23:14.357627Z"
    }
   },
   "outputs": [],
   "source": []
  },
  {
   "cell_type": "code",
   "execution_count": null,
   "metadata": {
    "ExecuteTime": {
     "end_time": "2022-05-11T16:24:10.150782Z",
     "start_time": "2022-05-11T16:24:10.113020Z"
    }
   },
   "outputs": [],
   "source": []
  },
  {
   "cell_type": "markdown",
   "metadata": {},
   "source": [
    "## No penalty"
   ]
  },
  {
   "cell_type": "code",
   "execution_count": 70,
   "metadata": {
    "ExecuteTime": {
     "end_time": "2022-05-11T16:26:24.871029Z",
     "start_time": "2022-05-11T16:26:24.724849Z"
    },
    "scrolled": true
   },
   "outputs": [
    {
     "name": "stdout",
     "output_type": "stream",
     "text": [
      "theta [-3.85132522  0.73070469  0.29259722  0.79641899  0.91992376 -0.42990303\n",
      "  0.66330736  1.42320437  1.77115536 -0.32529116 -0.98279655  0.66448989\n",
      " -0.50039619  0.56491152  0.57040687 -0.57908107 -0.16984314 -0.11673672\n",
      " -0.07606197 -0.53340333 -0.36967649  1.21705075  0.5792713   1.18762672\n",
      "  1.12280176  0.13383114  0.84508242  1.13030604  1.79760983  0.36221056\n",
      "  0.11840588]\n",
      "train score 0.9440993788819876\n",
      "test score 0.9418604651162791\n"
     ]
    }
   ],
   "source": [
    "x_train, x_test, y_train, y_test = train_test_split(x, y, test_size=0.15, random_state=42)\n",
    "clf = Logistic_regression( learning_rate=0.1, iterations=1000, penalty='none')\n",
    "clf.fit(x_train, y_train)\n",
    "print('theta',clf.theta)\n",
    "\n",
    "\n",
    "y_pred = clf.predict(x_train,continuous=False)\n",
    "print('train score',accuracy_score(y_train, y_pred))\n",
    "\n",
    "y_pred = clf.predict(x_test,continuous=False)\n",
    "print('test score',accuracy_score(y_test, y_pred))\n"
   ]
  },
  {
   "cell_type": "markdown",
   "metadata": {
    "ExecuteTime": {
     "end_time": "2022-05-11T16:21:00.681092Z",
     "start_time": "2022-05-11T16:21:00.677554Z"
    }
   },
   "source": [
    "## Lasso regression"
   ]
  },
  {
   "cell_type": "code",
   "execution_count": 71,
   "metadata": {
    "ExecuteTime": {
     "end_time": "2022-05-11T16:26:29.019197Z",
     "start_time": "2022-05-11T16:26:28.812616Z"
    }
   },
   "outputs": [
    {
     "name": "stdout",
     "output_type": "stream",
     "text": [
      "theta [-3.69352027e+00  6.54195180e-01  1.76014256e-01  7.20378206e-01\n",
      "  8.26085950e-01 -2.31586581e-01  5.16691577e-01  1.30827992e+00\n",
      "  1.68745311e+00 -1.25798429e-01 -8.43655284e-01  4.99525650e-01\n",
      " -3.31874949e-01  3.97532306e-01  4.04033519e-01 -4.26285551e-01\n",
      " -2.57894473e-02 -3.30744313e-04 -2.18176918e-04 -3.72383523e-01\n",
      " -1.97224748e-01  1.15496207e+00  4.57491449e-01  1.12112181e+00\n",
      "  1.02696170e+00  6.23966845e-02  7.19016441e-01  1.01772124e+00\n",
      "  1.75094565e+00  1.98287837e-01 -8.30782531e-05]\n",
      "train score 0.9461697722567288\n",
      "test score 0.9418604651162791\n"
     ]
    }
   ],
   "source": [
    "x_train, x_test, y_train, y_test = train_test_split(x, y, test_size=0.15, random_state=42)\n",
    "clf = Logistic_regression( learning_rate=0.1, iterations=1000, penalty='l2', lambd=1)\n",
    "clf.fit(x_train, y_train)\n",
    "\n",
    "print('theta',clf.theta)\n",
    "\n",
    "\n",
    "y_pred = clf.predict(x_train,continuous=False)\n",
    "print('train score',accuracy_score(y_train, y_pred))\n",
    "\n",
    "y_pred = clf.predict(x_test,continuous=False)\n",
    "print('test score',accuracy_score(y_test, y_pred))\n"
   ]
  },
  {
   "cell_type": "markdown",
   "metadata": {},
   "source": [
    "<div class=\"girk\">\n",
    "<span class=\"burk\">Look at the coefficient value for lasso regularization, they got lower value.</span></div><i class=\"fa fa-lightbulb-o \"></i>"
   ]
  },
  {
   "cell_type": "markdown",
   "metadata": {},
   "source": [
    "## Ridge regression"
   ]
  },
  {
   "cell_type": "code",
   "execution_count": 72,
   "metadata": {
    "ExecuteTime": {
     "end_time": "2022-05-11T16:26:33.385874Z",
     "start_time": "2022-05-11T16:26:33.236819Z"
    }
   },
   "outputs": [
    {
     "name": "stdout",
     "output_type": "stream",
     "text": [
      "theta [-3.26082435  0.6164831   0.22949283  0.67241653  0.77521292 -0.37128197\n",
      "  0.56494294  1.20556547  1.49509423 -0.2809865  -0.83040602  0.55481993\n",
      " -0.43101296  0.47243847  0.47662708 -0.49590294 -0.1354582  -0.09487492\n",
      " -0.06191043 -0.45384898 -0.30798929  1.0242505   0.46643771  1.00064085\n",
      "  0.94424705  0.09951239  0.71700416  0.95869863  1.51854928  0.29599827\n",
      "  0.09945183]\n",
      "train score 0.9420289855072463\n",
      "test score 0.9534883720930233\n"
     ]
    }
   ],
   "source": [
    "x_train, x_test, y_train, y_test = train_test_split(x, y, test_size=0.15, random_state=42)\n",
    "clf = Logistic_regression( learning_rate=0.1, iterations=1000, penalty='l1', lambd=1)\n",
    "clf.fit(x_train, y_train)\n",
    "print('theta',clf.theta)\n",
    "\n",
    "y_pred = clf.predict(x_train,continuous=False)\n",
    "print('train score',accuracy_score(y_train, y_pred))\n",
    "\n",
    "y_pred = clf.predict(x_test,continuous=False)\n",
    "print('test score',accuracy_score(y_test, y_pred))\n"
   ]
  },
  {
   "cell_type": "code",
   "execution_count": null,
   "metadata": {},
   "outputs": [],
   "source": []
  },
  {
   "cell_type": "markdown",
   "metadata": {
    "ExecuteTime": {
     "end_time": "2022-05-11T15:48:51.971014Z",
     "start_time": "2022-05-11T15:48:51.966335Z"
    }
   },
   "source": [
    "## cross validation to find $\\lambda$"
   ]
  },
  {
   "cell_type": "code",
   "execution_count": 73,
   "metadata": {
    "ExecuteTime": {
     "end_time": "2022-05-11T16:26:58.361840Z",
     "start_time": "2022-05-11T16:26:53.661571Z"
    }
   },
   "outputs": [
    {
     "name": "stdout",
     "output_type": "stream",
     "text": [
      "lambda    train score     test score\n",
      "0.0001 0.9318518518518518 0.9200000000000002\n",
      "0.0005 0.9337037037037037 0.9200000000000002\n",
      "0.001 0.9340740740740741 0.92\n"
     ]
    }
   ],
   "source": [
    "from sklearn.model_selection import KFold\n",
    "from sklearn.neighbors import KNeighborsClassifier\n",
    "from sklearn import metrics\n",
    "score1 = []\n",
    "score2 = []\n",
    "kf = KFold(n_splits=10,shuffle=True)\n",
    "\n",
    "print('lambda   ','train score    ','test score')\n",
    "for lambd in [0.0001,0.0005,0.001]:\n",
    "    for train_index, test_index in kf.split(range(150)):\n",
    "\n",
    "        X_train = np.take(x,train_index,axis=0)\n",
    "        X_test = np.take(x,test_index,axis=0)\n",
    "        y_train = np.take(y,train_index,axis=0)\n",
    "        y_test = np.take(y,test_index,axis=0)\n",
    "\n",
    "        mod_dt = clf = Logistic_regression( learning_rate=0.1, iterations=1000, penalty='l2', lambd=lambd)#KNeighborsClassifier(n_neighbors=2)\n",
    "        mod_dt.fit(X_train,y_train)\n",
    "\n",
    "        prediction=mod_dt.predict(X_test,continuous = False)\n",
    "        score_test = metrics.accuracy_score(prediction,y_test)\n",
    "        #print('The accuracy of the Decision Tree is',\"{:.3f}\".format(score_test))\n",
    "\n",
    "        prediction=mod_dt.predict(X_train,continuous = False)\n",
    "        score_train = metrics.accuracy_score(prediction,y_train)\n",
    "        #print('The training data score is ',\"{:.3f} \\n\".format(score_train))\n",
    "\n",
    "        score1.append(score_train)\n",
    "        score2.append(score_test)\n",
    "    \n",
    "    print(lambd,np.array(score1).mean(),np.array(score2).mean())\n"
   ]
  },
  {
   "cell_type": "markdown",
   "metadata": {
    "ExecuteTime": {
     "end_time": "2022-05-11T16:02:43.181112Z",
     "start_time": "2022-05-11T16:02:43.174866Z"
    }
   },
   "source": [
    " L1 regression\n",
    "\n",
    "lambda | train score | test score\n",
    "-------|----------------------|-----------------\n",
    "0.0001 |0.9333333333333333 |0.9199999999999999\n",
    "0.0003 |0.9337037037037037 |0.9233333333333335\n",
    "0.009 |0.9335802469135802 |0.9222222222222223\n",
    "0.01 |0.9335185185185185 |0.9216666666666666"
   ]
  },
  {
   "cell_type": "code",
   "execution_count": null,
   "metadata": {
    "ExecuteTime": {
     "end_time": "2022-05-11T15:52:34.173352Z",
     "start_time": "2022-05-11T15:52:34.166533Z"
    }
   },
   "outputs": [],
   "source": []
  },
  {
   "cell_type": "code",
   "execution_count": null,
   "metadata": {},
   "outputs": [],
   "source": []
  }
 ],
 "metadata": {
  "hide_input": false,
  "kernelspec": {
   "display_name": "Python 3",
   "language": "python",
   "name": "python3"
  },
  "language_info": {
   "codemirror_mode": {
    "name": "ipython",
    "version": 3
   },
   "file_extension": ".py",
   "mimetype": "text/x-python",
   "name": "python",
   "nbconvert_exporter": "python",
   "pygments_lexer": "ipython3",
   "version": "3.7.6"
  },
  "latex_envs": {
   "LaTeX_envs_menu_present": true,
   "autoclose": false,
   "autocomplete": true,
   "bibliofile": "biblio.bib",
   "cite_by": "apalike",
   "current_citInitial": 1,
   "eqLabelWithNumbers": true,
   "eqNumInitial": 1,
   "hotkeys": {
    "equation": "Ctrl-E",
    "itemize": "Ctrl-I"
   },
   "labels_anchors": false,
   "latex_user_defs": false,
   "report_style_numbering": false,
   "user_envs_cfg": false
  },
  "toc": {
   "base_numbering": 1,
   "nav_menu": {},
   "number_sections": true,
   "sideBar": true,
   "skip_h1_title": false,
   "title_cell": "Table of Contents",
   "title_sidebar": "Contents",
   "toc_cell": false,
   "toc_position": {},
   "toc_section_display": true,
   "toc_window_display": true
  }
 },
 "nbformat": 4,
 "nbformat_minor": 4
}
