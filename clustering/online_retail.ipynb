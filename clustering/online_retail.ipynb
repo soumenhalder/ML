{
 "cells": [
  {
   "cell_type": "markdown",
   "id": "f1ccc1dc-28d4-46eb-90c8-51e312340787",
   "metadata": {
    "toc-hr-collapsed": true
   },
   "source": [
    "# Importing libraries"
   ]
  },
  {
   "cell_type": "code",
   "execution_count": 51,
   "id": "7f45f941-b976-4234-b716-56ed81fd0a19",
   "metadata": {},
   "outputs": [],
   "source": [
    "# pandas\n",
    "import pandas as pd\n",
    "\n",
    "\n",
    "# array/ math\n",
    "import numpy as np\n",
    "\n",
    "# plotting\n",
    "import matplotlib.pyplot as plt\n",
    "import seaborn as sns\n",
    "\n",
    "# feature tuning\n",
    "from category_encoders import CountEncoder"
   ]
  },
  {
   "cell_type": "markdown",
   "id": "3e0bd806-e841-4030-8fbf-728d10543cab",
   "metadata": {},
   "source": [
    "Dataset downloaded from kaggle link [here](https://www.kaggle.com/datasets/shrutipandit707/onlineretaildata)\n",
    "\n",
    "Description of the dataset\n",
    "-----------\n",
    "This is an online retail dataset that can be used for frequency,recency and monetary analysis and for applying clustering algorithms such as K-Means. It's a great dataset for practicing Clustering Algorithms."
   ]
  },
  {
   "cell_type": "markdown",
   "id": "54440231-d026-4bbc-b4ef-7bbdc203c9bf",
   "metadata": {
    "tags": [],
    "toc-hr-collapsed": true
   },
   "source": [
    "# Importing data and EDA"
   ]
  },
  {
   "cell_type": "code",
   "execution_count": 2,
   "id": "e8e38ddd-0862-41c5-98da-8a1907d36d6d",
   "metadata": {},
   "outputs": [],
   "source": [
    "df = pd.read_csv('Online_Retail.csv')"
   ]
  },
  {
   "cell_type": "code",
   "execution_count": 3,
   "id": "41ef125e-4c85-4084-8f5b-4b9bf2cd8236",
   "metadata": {},
   "outputs": [
    {
     "data": {
      "text/html": [
       "<div>\n",
       "<style scoped>\n",
       "    .dataframe tbody tr th:only-of-type {\n",
       "        vertical-align: middle;\n",
       "    }\n",
       "\n",
       "    .dataframe tbody tr th {\n",
       "        vertical-align: top;\n",
       "    }\n",
       "\n",
       "    .dataframe thead th {\n",
       "        text-align: right;\n",
       "    }\n",
       "</style>\n",
       "<table border=\"1\" class=\"dataframe\">\n",
       "  <thead>\n",
       "    <tr style=\"text-align: right;\">\n",
       "      <th></th>\n",
       "      <th>InvoiceNo</th>\n",
       "      <th>StockCode</th>\n",
       "      <th>Description</th>\n",
       "      <th>Quantity</th>\n",
       "      <th>InvoiceDate</th>\n",
       "      <th>UnitPrice</th>\n",
       "      <th>CustomerID</th>\n",
       "      <th>Country</th>\n",
       "    </tr>\n",
       "  </thead>\n",
       "  <tbody>\n",
       "    <tr>\n",
       "      <th>0</th>\n",
       "      <td>536365</td>\n",
       "      <td>85123A</td>\n",
       "      <td>WHITE HANGING HEART T-LIGHT HOLDER</td>\n",
       "      <td>6</td>\n",
       "      <td>1/12/2010 8:26</td>\n",
       "      <td>2.55</td>\n",
       "      <td>17850.0</td>\n",
       "      <td>United Kingdom</td>\n",
       "    </tr>\n",
       "    <tr>\n",
       "      <th>1</th>\n",
       "      <td>536365</td>\n",
       "      <td>71053</td>\n",
       "      <td>WHITE METAL LANTERN</td>\n",
       "      <td>6</td>\n",
       "      <td>1/12/2010 8:26</td>\n",
       "      <td>3.39</td>\n",
       "      <td>17850.0</td>\n",
       "      <td>United Kingdom</td>\n",
       "    </tr>\n",
       "    <tr>\n",
       "      <th>2</th>\n",
       "      <td>536365</td>\n",
       "      <td>84406B</td>\n",
       "      <td>CREAM CUPID HEARTS COAT HANGER</td>\n",
       "      <td>8</td>\n",
       "      <td>1/12/2010 8:26</td>\n",
       "      <td>2.75</td>\n",
       "      <td>17850.0</td>\n",
       "      <td>United Kingdom</td>\n",
       "    </tr>\n",
       "    <tr>\n",
       "      <th>3</th>\n",
       "      <td>536365</td>\n",
       "      <td>84029G</td>\n",
       "      <td>KNITTED UNION FLAG HOT WATER BOTTLE</td>\n",
       "      <td>6</td>\n",
       "      <td>1/12/2010 8:26</td>\n",
       "      <td>3.39</td>\n",
       "      <td>17850.0</td>\n",
       "      <td>United Kingdom</td>\n",
       "    </tr>\n",
       "    <tr>\n",
       "      <th>4</th>\n",
       "      <td>536365</td>\n",
       "      <td>84029E</td>\n",
       "      <td>RED WOOLLY HOTTIE WHITE HEART.</td>\n",
       "      <td>6</td>\n",
       "      <td>1/12/2010 8:26</td>\n",
       "      <td>3.39</td>\n",
       "      <td>17850.0</td>\n",
       "      <td>United Kingdom</td>\n",
       "    </tr>\n",
       "  </tbody>\n",
       "</table>\n",
       "</div>"
      ],
      "text/plain": [
       "  InvoiceNo StockCode                          Description  Quantity  \\\n",
       "0    536365    85123A   WHITE HANGING HEART T-LIGHT HOLDER         6   \n",
       "1    536365     71053                  WHITE METAL LANTERN         6   \n",
       "2    536365    84406B       CREAM CUPID HEARTS COAT HANGER         8   \n",
       "3    536365    84029G  KNITTED UNION FLAG HOT WATER BOTTLE         6   \n",
       "4    536365    84029E       RED WOOLLY HOTTIE WHITE HEART.         6   \n",
       "\n",
       "      InvoiceDate  UnitPrice  CustomerID         Country  \n",
       "0  1/12/2010 8:26       2.55     17850.0  United Kingdom  \n",
       "1  1/12/2010 8:26       3.39     17850.0  United Kingdom  \n",
       "2  1/12/2010 8:26       2.75     17850.0  United Kingdom  \n",
       "3  1/12/2010 8:26       3.39     17850.0  United Kingdom  \n",
       "4  1/12/2010 8:26       3.39     17850.0  United Kingdom  "
      ]
     },
     "execution_count": 3,
     "metadata": {},
     "output_type": "execute_result"
    }
   ],
   "source": [
    "# check few rows\n",
    "df.head()"
   ]
  },
  {
   "cell_type": "code",
   "execution_count": 8,
   "id": "d2a416f8-b230-426a-a81d-2a8bd941c76e",
   "metadata": {},
   "outputs": [
    {
     "data": {
      "text/plain": [
       "InvoiceNo       object\n",
       "StockCode       object\n",
       "Description     object\n",
       "Quantity         int64\n",
       "InvoiceDate     object\n",
       "UnitPrice      float64\n",
       "CustomerID     float64\n",
       "Country         object\n",
       "dtype: object"
      ]
     },
     "execution_count": 8,
     "metadata": {},
     "output_type": "execute_result"
    }
   ],
   "source": [
    "# data types of each features\n",
    "df.dtypes"
   ]
  },
  {
   "cell_type": "markdown",
   "id": "200a197a-3d9c-435b-bdf6-fb31c4da9ec4",
   "metadata": {},
   "source": [
    "## Duplicate row"
   ]
  },
  {
   "cell_type": "code",
   "execution_count": 30,
   "id": "6704be06-84e6-4f53-8bc8-a8b4e08c0c51",
   "metadata": {},
   "outputs": [
    {
     "data": {
      "text/plain": [
       "0.9721189350979592"
      ]
     },
     "execution_count": 30,
     "metadata": {},
     "output_type": "execute_result"
    }
   ],
   "source": [
    "100 * df[df.duplicated()].shape[0]/df.shape[0]"
   ]
  },
  {
   "cell_type": "markdown",
   "id": "df92cbf9-545b-4b88-bbc5-39ecea460a98",
   "metadata": {
    "tags": [
     "commentry"
    ]
   },
   "source": [
    "0.97% training examples are duplicate row"
   ]
  },
  {
   "cell_type": "markdown",
   "id": "718fcb18-84cf-4ed1-afa6-e1fbbfb36688",
   "metadata": {
    "tags": [
     "Questions"
    ]
   },
   "source": [
    "* Question : Should the duplicate data be removed to run clustering algorithm? (Asked in [Stack](https://stats.stackexchange.com/questions/152808/do-i-need-to-remove-duplicate-objects-for-cluster-analysis-of-objects))\n",
    "\n",
    "* Answer\n",
    "    * \"Having duplicates indicate that those are particularly likely combinations of variable values, which should get a higher weight because of that. This means observations with the same values do not become redundant.\"\n",
    "    * If your data set has lots of duplicates, it can accelerate the processing a lot to merge them and use weights instead."
   ]
  },
  {
   "cell_type": "markdown",
   "id": "b2178016-0106-447a-8db9-210506852c31",
   "metadata": {},
   "source": [
    "## Missing values"
   ]
  },
  {
   "cell_type": "code",
   "execution_count": 29,
   "id": "fe3beaad-1a10-4d11-97e2-73aa4a85906b",
   "metadata": {},
   "outputs": [
    {
     "data": {
      "text/plain": [
       "InvoiceNo      False\n",
       "StockCode      False\n",
       "Description     True\n",
       "Quantity       False\n",
       "InvoiceDate    False\n",
       "UnitPrice      False\n",
       "CustomerID      True\n",
       "Country        False\n",
       "dtype: bool"
      ]
     },
     "execution_count": 29,
     "metadata": {},
     "output_type": "execute_result"
    }
   ],
   "source": [
    "# which features has missing values() \n",
    "df.isna().any()"
   ]
  },
  {
   "cell_type": "code",
   "execution_count": 66,
   "id": "12000c82-8fab-47c5-9517-013199917a11",
   "metadata": {},
   "outputs": [
    {
     "data": {
      "text/plain": [
       "(0.002683107311375157, 0.249266943342886)"
      ]
     },
     "execution_count": 66,
     "metadata": {},
     "output_type": "execute_result"
    }
   ],
   "source": [
    "df[\"Description\"].isna().sum()/df.shape[0], df[\"CustomerID\"].isna().sum()/df.shape[0]"
   ]
  },
  {
   "cell_type": "markdown",
   "id": "6fa79d3d-12fe-4b89-b0d3-34a64b411cea",
   "metadata": {
    "tags": [
     "commentry"
    ]
   },
   "source": [
    "\"Description\"(0.27%) and \"CustomerID\" (24.9%) columns has missing entry"
   ]
  },
  {
   "cell_type": "markdown",
   "id": "0f4ab20d-886f-4840-a28e-30ab2b9fee24",
   "metadata": {
    "tags": [
     "Questions"
    ]
   },
   "source": [
    "* Question: What imputing strategy should we take for customerID?\n",
    "* Answer: Check the correlation between customerID and invoice no or other features, Might be this is a redundant feature and we can get rid of this easily\n"
   ]
  },
  {
   "cell_type": "markdown",
   "id": "02d206c4-6b8e-4247-b393-9dd6701429f4",
   "metadata": {},
   "source": [
    "## Encoding the categorical features"
   ]
  },
  {
   "cell_type": "markdown",
   "id": "e3a53f90-9d04-4c45-a9d8-1a0b6e9d6fa0",
   "metadata": {},
   "source": [
    "### Stock code"
   ]
  },
  {
   "cell_type": "code",
   "execution_count": 87,
   "id": "24d46db0-e4df-4d45-840b-ab33a730f326",
   "metadata": {},
   "outputs": [
    {
     "data": {
      "text/plain": [
       "4070"
      ]
     },
     "execution_count": 87,
     "metadata": {},
     "output_type": "execute_result"
    }
   ],
   "source": [
    "len(df['StockCode'].value_counts())"
   ]
  },
  {
   "cell_type": "markdown",
   "id": "2f7ac8b1-c456-4c57-b39c-5305ee048538",
   "metadata": {
    "tags": [
     "commentry"
    ]
   },
   "source": [
    "\"StockCode\" has very high cardinality"
   ]
  },
  {
   "cell_type": "code",
   "execution_count": 88,
   "id": "7b25323e-8696-40ad-8cfb-17ab35ce4fb7",
   "metadata": {},
   "outputs": [
    {
     "data": {
      "text/plain": [
       "0.1882419372994359"
      ]
     },
     "execution_count": 88,
     "metadata": {},
     "output_type": "execute_result"
    }
   ],
   "source": [
    "# How much fraction top n category\"?\n",
    "df['StockCode'].value_counts().sort_values(ascending=False).head(100).sum()/df.shape[0]"
   ]
  },
  {
   "cell_type": "markdown",
   "id": "284e8667-7948-4c6b-8b80-41e5d6e4c9d0",
   "metadata": {
    "tags": [
     "commentry"
    ]
   },
   "source": [
    "Very high cardinality, will use frequency encoding"
   ]
  },
  {
   "cell_type": "code",
   "execution_count": 93,
   "id": "6ee1a24b-1297-4edc-aa5e-ada483318d10",
   "metadata": {},
   "outputs": [
    {
     "data": {
      "text/html": [
       "<div>\n",
       "<style scoped>\n",
       "    .dataframe tbody tr th:only-of-type {\n",
       "        vertical-align: middle;\n",
       "    }\n",
       "\n",
       "    .dataframe tbody tr th {\n",
       "        vertical-align: top;\n",
       "    }\n",
       "\n",
       "    .dataframe thead th {\n",
       "        text-align: right;\n",
       "    }\n",
       "</style>\n",
       "<table border=\"1\" class=\"dataframe\">\n",
       "  <thead>\n",
       "    <tr style=\"text-align: right;\">\n",
       "      <th></th>\n",
       "      <th>InvoiceNo</th>\n",
       "      <th>StockCode</th>\n",
       "      <th>Description</th>\n",
       "      <th>Quantity</th>\n",
       "      <th>InvoiceDate</th>\n",
       "      <th>UnitPrice</th>\n",
       "      <th>CustomerID</th>\n",
       "      <th>Country</th>\n",
       "    </tr>\n",
       "  </thead>\n",
       "  <tbody>\n",
       "    <tr>\n",
       "      <th>0</th>\n",
       "      <td>536365</td>\n",
       "      <td>2313</td>\n",
       "      <td>WHITE HANGING HEART T-LIGHT HOLDER</td>\n",
       "      <td>6</td>\n",
       "      <td>1/12/2010 8:26</td>\n",
       "      <td>2.55</td>\n",
       "      <td>17850.0</td>\n",
       "      <td>United Kingdom</td>\n",
       "    </tr>\n",
       "    <tr>\n",
       "      <th>1</th>\n",
       "      <td>536365</td>\n",
       "      <td>355</td>\n",
       "      <td>WHITE METAL LANTERN</td>\n",
       "      <td>6</td>\n",
       "      <td>1/12/2010 8:26</td>\n",
       "      <td>3.39</td>\n",
       "      <td>17850.0</td>\n",
       "      <td>United Kingdom</td>\n",
       "    </tr>\n",
       "    <tr>\n",
       "      <th>2</th>\n",
       "      <td>536365</td>\n",
       "      <td>296</td>\n",
       "      <td>CREAM CUPID HEARTS COAT HANGER</td>\n",
       "      <td>8</td>\n",
       "      <td>1/12/2010 8:26</td>\n",
       "      <td>2.75</td>\n",
       "      <td>17850.0</td>\n",
       "      <td>United Kingdom</td>\n",
       "    </tr>\n",
       "    <tr>\n",
       "      <th>3</th>\n",
       "      <td>536365</td>\n",
       "      <td>474</td>\n",
       "      <td>KNITTED UNION FLAG HOT WATER BOTTLE</td>\n",
       "      <td>6</td>\n",
       "      <td>1/12/2010 8:26</td>\n",
       "      <td>3.39</td>\n",
       "      <td>17850.0</td>\n",
       "      <td>United Kingdom</td>\n",
       "    </tr>\n",
       "    <tr>\n",
       "      <th>4</th>\n",
       "      <td>536365</td>\n",
       "      <td>452</td>\n",
       "      <td>RED WOOLLY HOTTIE WHITE HEART.</td>\n",
       "      <td>6</td>\n",
       "      <td>1/12/2010 8:26</td>\n",
       "      <td>3.39</td>\n",
       "      <td>17850.0</td>\n",
       "      <td>United Kingdom</td>\n",
       "    </tr>\n",
       "    <tr>\n",
       "      <th>5</th>\n",
       "      <td>536365</td>\n",
       "      <td>389</td>\n",
       "      <td>SET 7 BABUSHKA NESTING BOXES</td>\n",
       "      <td>2</td>\n",
       "      <td>1/12/2010 8:26</td>\n",
       "      <td>7.65</td>\n",
       "      <td>17850.0</td>\n",
       "      <td>United Kingdom</td>\n",
       "    </tr>\n",
       "    <tr>\n",
       "      <th>6</th>\n",
       "      <td>536365</td>\n",
       "      <td>141</td>\n",
       "      <td>GLASS STAR FROSTED T-LIGHT HOLDER</td>\n",
       "      <td>6</td>\n",
       "      <td>1/12/2010 8:26</td>\n",
       "      <td>4.25</td>\n",
       "      <td>17850.0</td>\n",
       "      <td>United Kingdom</td>\n",
       "    </tr>\n",
       "    <tr>\n",
       "      <th>7</th>\n",
       "      <td>536366</td>\n",
       "      <td>516</td>\n",
       "      <td>HAND WARMER UNION JACK</td>\n",
       "      <td>6</td>\n",
       "      <td>1/12/2010 8:28</td>\n",
       "      <td>1.85</td>\n",
       "      <td>17850.0</td>\n",
       "      <td>United Kingdom</td>\n",
       "    </tr>\n",
       "    <tr>\n",
       "      <th>8</th>\n",
       "      <td>536366</td>\n",
       "      <td>415</td>\n",
       "      <td>HAND WARMER RED POLKA DOT</td>\n",
       "      <td>6</td>\n",
       "      <td>1/12/2010 8:28</td>\n",
       "      <td>1.85</td>\n",
       "      <td>17850.0</td>\n",
       "      <td>United Kingdom</td>\n",
       "    </tr>\n",
       "    <tr>\n",
       "      <th>9</th>\n",
       "      <td>536367</td>\n",
       "      <td>1502</td>\n",
       "      <td>ASSORTED COLOUR BIRD ORNAMENT</td>\n",
       "      <td>32</td>\n",
       "      <td>1/12/2010 8:34</td>\n",
       "      <td>1.69</td>\n",
       "      <td>13047.0</td>\n",
       "      <td>United Kingdom</td>\n",
       "    </tr>\n",
       "  </tbody>\n",
       "</table>\n",
       "</div>"
      ],
      "text/plain": [
       "  InvoiceNo  StockCode                          Description  Quantity  \\\n",
       "0    536365       2313   WHITE HANGING HEART T-LIGHT HOLDER         6   \n",
       "1    536365        355                  WHITE METAL LANTERN         6   \n",
       "2    536365        296       CREAM CUPID HEARTS COAT HANGER         8   \n",
       "3    536365        474  KNITTED UNION FLAG HOT WATER BOTTLE         6   \n",
       "4    536365        452       RED WOOLLY HOTTIE WHITE HEART.         6   \n",
       "5    536365        389         SET 7 BABUSHKA NESTING BOXES         2   \n",
       "6    536365        141    GLASS STAR FROSTED T-LIGHT HOLDER         6   \n",
       "7    536366        516               HAND WARMER UNION JACK         6   \n",
       "8    536366        415            HAND WARMER RED POLKA DOT         6   \n",
       "9    536367       1502        ASSORTED COLOUR BIRD ORNAMENT        32   \n",
       "\n",
       "      InvoiceDate  UnitPrice  CustomerID         Country  \n",
       "0  1/12/2010 8:26       2.55     17850.0  United Kingdom  \n",
       "1  1/12/2010 8:26       3.39     17850.0  United Kingdom  \n",
       "2  1/12/2010 8:26       2.75     17850.0  United Kingdom  \n",
       "3  1/12/2010 8:26       3.39     17850.0  United Kingdom  \n",
       "4  1/12/2010 8:26       3.39     17850.0  United Kingdom  \n",
       "5  1/12/2010 8:26       7.65     17850.0  United Kingdom  \n",
       "6  1/12/2010 8:26       4.25     17850.0  United Kingdom  \n",
       "7  1/12/2010 8:28       1.85     17850.0  United Kingdom  \n",
       "8  1/12/2010 8:28       1.85     17850.0  United Kingdom  \n",
       "9  1/12/2010 8:34       1.69     13047.0  United Kingdom  "
      ]
     },
     "execution_count": 93,
     "metadata": {},
     "output_type": "execute_result"
    }
   ],
   "source": [
    "CountEncoder(cols=['StockCode']).fit(df).transform(df).head(10)"
   ]
  },
  {
   "cell_type": "markdown",
   "id": "180872be-4ec1-42f4-a0f1-14e00f8303ee",
   "metadata": {},
   "source": [
    "### Country"
   ]
  },
  {
   "cell_type": "code",
   "execution_count": 112,
   "id": "a4b98c9d-1fb9-4e13-866a-e28bb2b4fdb0",
   "metadata": {},
   "outputs": [
    {
     "data": {
      "text/plain": [
       "United Kingdom    495478\n",
       "Germany             9495\n",
       "France              8557\n",
       "EIRE                8196\n",
       "Spain               2533\n",
       "Name: Country, dtype: int64"
      ]
     },
     "execution_count": 112,
     "metadata": {},
     "output_type": "execute_result"
    }
   ],
   "source": [
    "df['Country'].value_counts().head(5)"
   ]
  },
  {
   "cell_type": "markdown",
   "id": "cd520389-a885-4205-86c2-1f4ab27f3cca",
   "metadata": {
    "tags": [
     "Questions"
    ]
   },
   "source": [
    "Question: Any special techniques to encode country name for clustering algorithm? Say for example if we perform label encoding then some information like common habit amonst subcontinent information may be lost. So coordinate can be used!"
   ]
  },
  {
   "cell_type": "markdown",
   "id": "d82ac2a0-63f6-43c6-b536-323274009a61",
   "metadata": {
    "tags": [
     "commentry"
    ]
   },
   "source": [
    "`Do One hot encoding`"
   ]
  },
  {
   "cell_type": "markdown",
   "id": "da221841-250a-4e22-b457-8dd7a7b82452",
   "metadata": {},
   "source": [
    "### Invoice date"
   ]
  },
  {
   "cell_type": "markdown",
   "id": "774d5b2a-39d2-4728-b699-c01baa624880",
   "metadata": {
    "tags": [
     "commentry"
    ]
   },
   "source": [
    "Use Cyclical transformer or other similar techniques to transform datetime. \n",
    "\n",
    "References:\n",
    "* [Search Engine](https://www.google.com/search?q=how+to+encode+data+time+in+machine+learning&oq=how+to+encode+data+time+in+mach&aqs=chrome.1.69i57j33i160j33i21l2j33i22i29i30l6.9079j0j7&sourceid=chrome&ie=UTF-8)\n",
    "* [Kaggle](https://www.kaggle.com/code/avanwyk/encoding-cyclical-features-for-deep-learning)\n",
    "* [Stack exchange](https://stats.stackexchange.com/questions/311494/best-practice-for-encoding-datetime-in-machine-learning)"
   ]
  },
  {
   "cell_type": "code",
   "execution_count": 52,
   "id": "de86d044-8007-4160-b332-1eaa1c62414d",
   "metadata": {},
   "outputs": [],
   "source": [
    "df_dt = pd.read_csv('Online_Retail.csv',parse_dates=['InvoiceDate'])"
   ]
  },
  {
   "cell_type": "code",
   "execution_count": 53,
   "id": "ddae1288-545c-4ebb-aa6c-aad7f08c7126",
   "metadata": {},
   "outputs": [
    {
     "data": {
      "text/plain": [
       "InvoiceNo              object\n",
       "StockCode              object\n",
       "Description            object\n",
       "Quantity                int64\n",
       "InvoiceDate    datetime64[ns]\n",
       "UnitPrice             float64\n",
       "CustomerID            float64\n",
       "Country                object\n",
       "dtype: object"
      ]
     },
     "execution_count": 53,
     "metadata": {},
     "output_type": "execute_result"
    }
   ],
   "source": [
    "df_dt.dtypes"
   ]
  },
  {
   "cell_type": "code",
   "execution_count": 54,
   "id": "50d3c021-4710-4e10-b2e1-3fdf5538025e",
   "metadata": {},
   "outputs": [
    {
     "data": {
      "text/html": [
       "<div>\n",
       "<style scoped>\n",
       "    .dataframe tbody tr th:only-of-type {\n",
       "        vertical-align: middle;\n",
       "    }\n",
       "\n",
       "    .dataframe tbody tr th {\n",
       "        vertical-align: top;\n",
       "    }\n",
       "\n",
       "    .dataframe thead th {\n",
       "        text-align: right;\n",
       "    }\n",
       "</style>\n",
       "<table border=\"1\" class=\"dataframe\">\n",
       "  <thead>\n",
       "    <tr style=\"text-align: right;\">\n",
       "      <th></th>\n",
       "      <th>InvoiceNo</th>\n",
       "      <th>StockCode</th>\n",
       "      <th>Description</th>\n",
       "      <th>Quantity</th>\n",
       "      <th>InvoiceDate</th>\n",
       "      <th>UnitPrice</th>\n",
       "      <th>CustomerID</th>\n",
       "      <th>Country</th>\n",
       "    </tr>\n",
       "  </thead>\n",
       "  <tbody>\n",
       "    <tr>\n",
       "      <th>0</th>\n",
       "      <td>536365</td>\n",
       "      <td>85123A</td>\n",
       "      <td>WHITE HANGING HEART T-LIGHT HOLDER</td>\n",
       "      <td>6</td>\n",
       "      <td>2010-01-12 08:26:00</td>\n",
       "      <td>2.55</td>\n",
       "      <td>17850.0</td>\n",
       "      <td>United Kingdom</td>\n",
       "    </tr>\n",
       "    <tr>\n",
       "      <th>1</th>\n",
       "      <td>536365</td>\n",
       "      <td>71053</td>\n",
       "      <td>WHITE METAL LANTERN</td>\n",
       "      <td>6</td>\n",
       "      <td>2010-01-12 08:26:00</td>\n",
       "      <td>3.39</td>\n",
       "      <td>17850.0</td>\n",
       "      <td>United Kingdom</td>\n",
       "    </tr>\n",
       "    <tr>\n",
       "      <th>2</th>\n",
       "      <td>536365</td>\n",
       "      <td>84406B</td>\n",
       "      <td>CREAM CUPID HEARTS COAT HANGER</td>\n",
       "      <td>8</td>\n",
       "      <td>2010-01-12 08:26:00</td>\n",
       "      <td>2.75</td>\n",
       "      <td>17850.0</td>\n",
       "      <td>United Kingdom</td>\n",
       "    </tr>\n",
       "    <tr>\n",
       "      <th>3</th>\n",
       "      <td>536365</td>\n",
       "      <td>84029G</td>\n",
       "      <td>KNITTED UNION FLAG HOT WATER BOTTLE</td>\n",
       "      <td>6</td>\n",
       "      <td>2010-01-12 08:26:00</td>\n",
       "      <td>3.39</td>\n",
       "      <td>17850.0</td>\n",
       "      <td>United Kingdom</td>\n",
       "    </tr>\n",
       "    <tr>\n",
       "      <th>4</th>\n",
       "      <td>536365</td>\n",
       "      <td>84029E</td>\n",
       "      <td>RED WOOLLY HOTTIE WHITE HEART.</td>\n",
       "      <td>6</td>\n",
       "      <td>2010-01-12 08:26:00</td>\n",
       "      <td>3.39</td>\n",
       "      <td>17850.0</td>\n",
       "      <td>United Kingdom</td>\n",
       "    </tr>\n",
       "  </tbody>\n",
       "</table>\n",
       "</div>"
      ],
      "text/plain": [
       "  InvoiceNo StockCode                          Description  Quantity  \\\n",
       "0    536365    85123A   WHITE HANGING HEART T-LIGHT HOLDER         6   \n",
       "1    536365     71053                  WHITE METAL LANTERN         6   \n",
       "2    536365    84406B       CREAM CUPID HEARTS COAT HANGER         8   \n",
       "3    536365    84029G  KNITTED UNION FLAG HOT WATER BOTTLE         6   \n",
       "4    536365    84029E       RED WOOLLY HOTTIE WHITE HEART.         6   \n",
       "\n",
       "          InvoiceDate  UnitPrice  CustomerID         Country  \n",
       "0 2010-01-12 08:26:00       2.55     17850.0  United Kingdom  \n",
       "1 2010-01-12 08:26:00       3.39     17850.0  United Kingdom  \n",
       "2 2010-01-12 08:26:00       2.75     17850.0  United Kingdom  \n",
       "3 2010-01-12 08:26:00       3.39     17850.0  United Kingdom  \n",
       "4 2010-01-12 08:26:00       3.39     17850.0  United Kingdom  "
      ]
     },
     "execution_count": 54,
     "metadata": {},
     "output_type": "execute_result"
    }
   ],
   "source": [
    "df_dt.head()"
   ]
  },
  {
   "cell_type": "code",
   "execution_count": 55,
   "id": "bff9f3d2-c919-4829-acb7-733933966f42",
   "metadata": {},
   "outputs": [
    {
     "data": {
      "text/html": [
       "<div>\n",
       "<style scoped>\n",
       "    .dataframe tbody tr th:only-of-type {\n",
       "        vertical-align: middle;\n",
       "    }\n",
       "\n",
       "    .dataframe tbody tr th {\n",
       "        vertical-align: top;\n",
       "    }\n",
       "\n",
       "    .dataframe thead th {\n",
       "        text-align: right;\n",
       "    }\n",
       "</style>\n",
       "<table border=\"1\" class=\"dataframe\">\n",
       "  <thead>\n",
       "    <tr style=\"text-align: right;\">\n",
       "      <th></th>\n",
       "      <th>InvoiceNo</th>\n",
       "      <th>StockCode</th>\n",
       "      <th>Description</th>\n",
       "      <th>Quantity</th>\n",
       "      <th>InvoiceDate</th>\n",
       "      <th>UnitPrice</th>\n",
       "      <th>CustomerID</th>\n",
       "      <th>Country</th>\n",
       "      <th>hour</th>\n",
       "      <th>day</th>\n",
       "      <th>month</th>\n",
       "      <th>year</th>\n",
       "    </tr>\n",
       "  </thead>\n",
       "  <tbody>\n",
       "    <tr>\n",
       "      <th>0</th>\n",
       "      <td>536365</td>\n",
       "      <td>85123A</td>\n",
       "      <td>WHITE HANGING HEART T-LIGHT HOLDER</td>\n",
       "      <td>6</td>\n",
       "      <td>2010-01-12 08:26:00</td>\n",
       "      <td>2.55</td>\n",
       "      <td>17850.0</td>\n",
       "      <td>United Kingdom</td>\n",
       "      <td>8</td>\n",
       "      <td>12</td>\n",
       "      <td>1</td>\n",
       "      <td>2010</td>\n",
       "    </tr>\n",
       "    <tr>\n",
       "      <th>1</th>\n",
       "      <td>536365</td>\n",
       "      <td>71053</td>\n",
       "      <td>WHITE METAL LANTERN</td>\n",
       "      <td>6</td>\n",
       "      <td>2010-01-12 08:26:00</td>\n",
       "      <td>3.39</td>\n",
       "      <td>17850.0</td>\n",
       "      <td>United Kingdom</td>\n",
       "      <td>8</td>\n",
       "      <td>12</td>\n",
       "      <td>1</td>\n",
       "      <td>2010</td>\n",
       "    </tr>\n",
       "    <tr>\n",
       "      <th>2</th>\n",
       "      <td>536365</td>\n",
       "      <td>84406B</td>\n",
       "      <td>CREAM CUPID HEARTS COAT HANGER</td>\n",
       "      <td>8</td>\n",
       "      <td>2010-01-12 08:26:00</td>\n",
       "      <td>2.75</td>\n",
       "      <td>17850.0</td>\n",
       "      <td>United Kingdom</td>\n",
       "      <td>8</td>\n",
       "      <td>12</td>\n",
       "      <td>1</td>\n",
       "      <td>2010</td>\n",
       "    </tr>\n",
       "    <tr>\n",
       "      <th>3</th>\n",
       "      <td>536365</td>\n",
       "      <td>84029G</td>\n",
       "      <td>KNITTED UNION FLAG HOT WATER BOTTLE</td>\n",
       "      <td>6</td>\n",
       "      <td>2010-01-12 08:26:00</td>\n",
       "      <td>3.39</td>\n",
       "      <td>17850.0</td>\n",
       "      <td>United Kingdom</td>\n",
       "      <td>8</td>\n",
       "      <td>12</td>\n",
       "      <td>1</td>\n",
       "      <td>2010</td>\n",
       "    </tr>\n",
       "    <tr>\n",
       "      <th>4</th>\n",
       "      <td>536365</td>\n",
       "      <td>84029E</td>\n",
       "      <td>RED WOOLLY HOTTIE WHITE HEART.</td>\n",
       "      <td>6</td>\n",
       "      <td>2010-01-12 08:26:00</td>\n",
       "      <td>3.39</td>\n",
       "      <td>17850.0</td>\n",
       "      <td>United Kingdom</td>\n",
       "      <td>8</td>\n",
       "      <td>12</td>\n",
       "      <td>1</td>\n",
       "      <td>2010</td>\n",
       "    </tr>\n",
       "    <tr>\n",
       "      <th>...</th>\n",
       "      <td>...</td>\n",
       "      <td>...</td>\n",
       "      <td>...</td>\n",
       "      <td>...</td>\n",
       "      <td>...</td>\n",
       "      <td>...</td>\n",
       "      <td>...</td>\n",
       "      <td>...</td>\n",
       "      <td>...</td>\n",
       "      <td>...</td>\n",
       "      <td>...</td>\n",
       "      <td>...</td>\n",
       "    </tr>\n",
       "    <tr>\n",
       "      <th>541904</th>\n",
       "      <td>581587</td>\n",
       "      <td>22613</td>\n",
       "      <td>PACK OF 20 SPACEBOY NAPKINS</td>\n",
       "      <td>12</td>\n",
       "      <td>2011-09-12 12:50:00</td>\n",
       "      <td>0.85</td>\n",
       "      <td>12680.0</td>\n",
       "      <td>France</td>\n",
       "      <td>12</td>\n",
       "      <td>12</td>\n",
       "      <td>9</td>\n",
       "      <td>2011</td>\n",
       "    </tr>\n",
       "    <tr>\n",
       "      <th>541905</th>\n",
       "      <td>581587</td>\n",
       "      <td>22899</td>\n",
       "      <td>CHILDREN'S APRON DOLLY GIRL</td>\n",
       "      <td>6</td>\n",
       "      <td>2011-09-12 12:50:00</td>\n",
       "      <td>2.10</td>\n",
       "      <td>12680.0</td>\n",
       "      <td>France</td>\n",
       "      <td>12</td>\n",
       "      <td>12</td>\n",
       "      <td>9</td>\n",
       "      <td>2011</td>\n",
       "    </tr>\n",
       "    <tr>\n",
       "      <th>541906</th>\n",
       "      <td>581587</td>\n",
       "      <td>23254</td>\n",
       "      <td>CHILDRENS CUTLERY DOLLY GIRL</td>\n",
       "      <td>4</td>\n",
       "      <td>2011-09-12 12:50:00</td>\n",
       "      <td>4.15</td>\n",
       "      <td>12680.0</td>\n",
       "      <td>France</td>\n",
       "      <td>12</td>\n",
       "      <td>12</td>\n",
       "      <td>9</td>\n",
       "      <td>2011</td>\n",
       "    </tr>\n",
       "    <tr>\n",
       "      <th>541907</th>\n",
       "      <td>581587</td>\n",
       "      <td>23255</td>\n",
       "      <td>CHILDRENS CUTLERY CIRCUS PARADE</td>\n",
       "      <td>4</td>\n",
       "      <td>2011-09-12 12:50:00</td>\n",
       "      <td>4.15</td>\n",
       "      <td>12680.0</td>\n",
       "      <td>France</td>\n",
       "      <td>12</td>\n",
       "      <td>12</td>\n",
       "      <td>9</td>\n",
       "      <td>2011</td>\n",
       "    </tr>\n",
       "    <tr>\n",
       "      <th>541908</th>\n",
       "      <td>581587</td>\n",
       "      <td>22138</td>\n",
       "      <td>BAKING SET 9 PIECE RETROSPOT</td>\n",
       "      <td>3</td>\n",
       "      <td>2011-09-12 12:50:00</td>\n",
       "      <td>4.95</td>\n",
       "      <td>12680.0</td>\n",
       "      <td>France</td>\n",
       "      <td>12</td>\n",
       "      <td>12</td>\n",
       "      <td>9</td>\n",
       "      <td>2011</td>\n",
       "    </tr>\n",
       "  </tbody>\n",
       "</table>\n",
       "<p>541909 rows × 12 columns</p>\n",
       "</div>"
      ],
      "text/plain": [
       "       InvoiceNo StockCode                          Description  Quantity  \\\n",
       "0         536365    85123A   WHITE HANGING HEART T-LIGHT HOLDER         6   \n",
       "1         536365     71053                  WHITE METAL LANTERN         6   \n",
       "2         536365    84406B       CREAM CUPID HEARTS COAT HANGER         8   \n",
       "3         536365    84029G  KNITTED UNION FLAG HOT WATER BOTTLE         6   \n",
       "4         536365    84029E       RED WOOLLY HOTTIE WHITE HEART.         6   \n",
       "...          ...       ...                                  ...       ...   \n",
       "541904    581587     22613          PACK OF 20 SPACEBOY NAPKINS        12   \n",
       "541905    581587     22899         CHILDREN'S APRON DOLLY GIRL          6   \n",
       "541906    581587     23254        CHILDRENS CUTLERY DOLLY GIRL          4   \n",
       "541907    581587     23255      CHILDRENS CUTLERY CIRCUS PARADE         4   \n",
       "541908    581587     22138        BAKING SET 9 PIECE RETROSPOT          3   \n",
       "\n",
       "               InvoiceDate  UnitPrice  CustomerID         Country  hour  day  \\\n",
       "0      2010-01-12 08:26:00       2.55     17850.0  United Kingdom     8   12   \n",
       "1      2010-01-12 08:26:00       3.39     17850.0  United Kingdom     8   12   \n",
       "2      2010-01-12 08:26:00       2.75     17850.0  United Kingdom     8   12   \n",
       "3      2010-01-12 08:26:00       3.39     17850.0  United Kingdom     8   12   \n",
       "4      2010-01-12 08:26:00       3.39     17850.0  United Kingdom     8   12   \n",
       "...                    ...        ...         ...             ...   ...  ...   \n",
       "541904 2011-09-12 12:50:00       0.85     12680.0          France    12   12   \n",
       "541905 2011-09-12 12:50:00       2.10     12680.0          France    12   12   \n",
       "541906 2011-09-12 12:50:00       4.15     12680.0          France    12   12   \n",
       "541907 2011-09-12 12:50:00       4.15     12680.0          France    12   12   \n",
       "541908 2011-09-12 12:50:00       4.95     12680.0          France    12   12   \n",
       "\n",
       "        month  year  \n",
       "0           1  2010  \n",
       "1           1  2010  \n",
       "2           1  2010  \n",
       "3           1  2010  \n",
       "4           1  2010  \n",
       "...       ...   ...  \n",
       "541904      9  2011  \n",
       "541905      9  2011  \n",
       "541906      9  2011  \n",
       "541907      9  2011  \n",
       "541908      9  2011  \n",
       "\n",
       "[541909 rows x 12 columns]"
      ]
     },
     "execution_count": 55,
     "metadata": {},
     "output_type": "execute_result"
    }
   ],
   "source": [
    "df_dt['hour'] = df_dt.InvoiceDate.dt.hour\n",
    "df_dt['day'] = df_dt.InvoiceDate.dt.day\n",
    "df_dt['month'] = df_dt.InvoiceDate.dt.month\n",
    "df_dt['year'] = df_dt.InvoiceDate.dt.year\n",
    "df_dt\n",
    "#sample = data[:168]"
   ]
  },
  {
   "cell_type": "code",
   "execution_count": 58,
   "id": "c41a331c-5dc1-421d-8f86-9c95ce0bf5dd",
   "metadata": {},
   "outputs": [],
   "source": [
    "def encode(data, col, max_val):\n",
    "    data[col + '_sin'] = np.sin(2 * np.pi * data[col]/max_val)\n",
    "    data[col + '_cos'] = np.cos(2 * np.pi * data[col]/max_val)\n",
    "    return data.copy()"
   ]
  },
  {
   "cell_type": "code",
   "execution_count": 59,
   "id": "bc6a4d9f-b25d-4a35-ac8e-55fe782f965a",
   "metadata": {},
   "outputs": [],
   "source": [
    "data = encode(df_dt, 'month', 12)\n",
    "data = encode(df_dt, 'day', 31)\n",
    "hour = encode(df_dt, 'hour', 24)"
   ]
  },
  {
   "cell_type": "code",
   "execution_count": 67,
   "id": "af13575f-178c-4dd6-9349-6c3ef8779126",
   "metadata": {},
   "outputs": [
    {
     "data": {
      "text/html": [
       "<div>\n",
       "<style scoped>\n",
       "    .dataframe tbody tr th:only-of-type {\n",
       "        vertical-align: middle;\n",
       "    }\n",
       "\n",
       "    .dataframe tbody tr th {\n",
       "        vertical-align: top;\n",
       "    }\n",
       "\n",
       "    .dataframe thead th {\n",
       "        text-align: right;\n",
       "    }\n",
       "</style>\n",
       "<table border=\"1\" class=\"dataframe\">\n",
       "  <thead>\n",
       "    <tr style=\"text-align: right;\">\n",
       "      <th></th>\n",
       "      <th>InvoiceNo</th>\n",
       "      <th>StockCode</th>\n",
       "      <th>Description</th>\n",
       "      <th>Quantity</th>\n",
       "      <th>InvoiceDate</th>\n",
       "      <th>UnitPrice</th>\n",
       "      <th>CustomerID</th>\n",
       "      <th>Country</th>\n",
       "      <th>hour</th>\n",
       "      <th>day</th>\n",
       "      <th>month</th>\n",
       "      <th>year</th>\n",
       "      <th>month_sin</th>\n",
       "      <th>month_cos</th>\n",
       "      <th>day_sin</th>\n",
       "      <th>day_cos</th>\n",
       "      <th>hour_sin</th>\n",
       "      <th>hour_cos</th>\n",
       "    </tr>\n",
       "  </thead>\n",
       "  <tbody>\n",
       "    <tr>\n",
       "      <th>0</th>\n",
       "      <td>536365</td>\n",
       "      <td>85123A</td>\n",
       "      <td>WHITE HANGING HEART T-LIGHT HOLDER</td>\n",
       "      <td>6</td>\n",
       "      <td>2010-01-12 08:26:00</td>\n",
       "      <td>2.55</td>\n",
       "      <td>17850.0</td>\n",
       "      <td>United Kingdom</td>\n",
       "      <td>8</td>\n",
       "      <td>12</td>\n",
       "      <td>1</td>\n",
       "      <td>2010</td>\n",
       "      <td>0.5</td>\n",
       "      <td>8.660254e-01</td>\n",
       "      <td>0.651372</td>\n",
       "      <td>-0.758758</td>\n",
       "      <td>8.660254e-01</td>\n",
       "      <td>-0.5</td>\n",
       "    </tr>\n",
       "    <tr>\n",
       "      <th>1</th>\n",
       "      <td>536365</td>\n",
       "      <td>71053</td>\n",
       "      <td>WHITE METAL LANTERN</td>\n",
       "      <td>6</td>\n",
       "      <td>2010-01-12 08:26:00</td>\n",
       "      <td>3.39</td>\n",
       "      <td>17850.0</td>\n",
       "      <td>United Kingdom</td>\n",
       "      <td>8</td>\n",
       "      <td>12</td>\n",
       "      <td>1</td>\n",
       "      <td>2010</td>\n",
       "      <td>0.5</td>\n",
       "      <td>8.660254e-01</td>\n",
       "      <td>0.651372</td>\n",
       "      <td>-0.758758</td>\n",
       "      <td>8.660254e-01</td>\n",
       "      <td>-0.5</td>\n",
       "    </tr>\n",
       "    <tr>\n",
       "      <th>2</th>\n",
       "      <td>536365</td>\n",
       "      <td>84406B</td>\n",
       "      <td>CREAM CUPID HEARTS COAT HANGER</td>\n",
       "      <td>8</td>\n",
       "      <td>2010-01-12 08:26:00</td>\n",
       "      <td>2.75</td>\n",
       "      <td>17850.0</td>\n",
       "      <td>United Kingdom</td>\n",
       "      <td>8</td>\n",
       "      <td>12</td>\n",
       "      <td>1</td>\n",
       "      <td>2010</td>\n",
       "      <td>0.5</td>\n",
       "      <td>8.660254e-01</td>\n",
       "      <td>0.651372</td>\n",
       "      <td>-0.758758</td>\n",
       "      <td>8.660254e-01</td>\n",
       "      <td>-0.5</td>\n",
       "    </tr>\n",
       "    <tr>\n",
       "      <th>3</th>\n",
       "      <td>536365</td>\n",
       "      <td>84029G</td>\n",
       "      <td>KNITTED UNION FLAG HOT WATER BOTTLE</td>\n",
       "      <td>6</td>\n",
       "      <td>2010-01-12 08:26:00</td>\n",
       "      <td>3.39</td>\n",
       "      <td>17850.0</td>\n",
       "      <td>United Kingdom</td>\n",
       "      <td>8</td>\n",
       "      <td>12</td>\n",
       "      <td>1</td>\n",
       "      <td>2010</td>\n",
       "      <td>0.5</td>\n",
       "      <td>8.660254e-01</td>\n",
       "      <td>0.651372</td>\n",
       "      <td>-0.758758</td>\n",
       "      <td>8.660254e-01</td>\n",
       "      <td>-0.5</td>\n",
       "    </tr>\n",
       "    <tr>\n",
       "      <th>4</th>\n",
       "      <td>536365</td>\n",
       "      <td>84029E</td>\n",
       "      <td>RED WOOLLY HOTTIE WHITE HEART.</td>\n",
       "      <td>6</td>\n",
       "      <td>2010-01-12 08:26:00</td>\n",
       "      <td>3.39</td>\n",
       "      <td>17850.0</td>\n",
       "      <td>United Kingdom</td>\n",
       "      <td>8</td>\n",
       "      <td>12</td>\n",
       "      <td>1</td>\n",
       "      <td>2010</td>\n",
       "      <td>0.5</td>\n",
       "      <td>8.660254e-01</td>\n",
       "      <td>0.651372</td>\n",
       "      <td>-0.758758</td>\n",
       "      <td>8.660254e-01</td>\n",
       "      <td>-0.5</td>\n",
       "    </tr>\n",
       "    <tr>\n",
       "      <th>...</th>\n",
       "      <td>...</td>\n",
       "      <td>...</td>\n",
       "      <td>...</td>\n",
       "      <td>...</td>\n",
       "      <td>...</td>\n",
       "      <td>...</td>\n",
       "      <td>...</td>\n",
       "      <td>...</td>\n",
       "      <td>...</td>\n",
       "      <td>...</td>\n",
       "      <td>...</td>\n",
       "      <td>...</td>\n",
       "      <td>...</td>\n",
       "      <td>...</td>\n",
       "      <td>...</td>\n",
       "      <td>...</td>\n",
       "      <td>...</td>\n",
       "      <td>...</td>\n",
       "    </tr>\n",
       "    <tr>\n",
       "      <th>541904</th>\n",
       "      <td>581587</td>\n",
       "      <td>22613</td>\n",
       "      <td>PACK OF 20 SPACEBOY NAPKINS</td>\n",
       "      <td>12</td>\n",
       "      <td>2011-09-12 12:50:00</td>\n",
       "      <td>0.85</td>\n",
       "      <td>12680.0</td>\n",
       "      <td>France</td>\n",
       "      <td>12</td>\n",
       "      <td>12</td>\n",
       "      <td>9</td>\n",
       "      <td>2011</td>\n",
       "      <td>-1.0</td>\n",
       "      <td>-1.836970e-16</td>\n",
       "      <td>0.651372</td>\n",
       "      <td>-0.758758</td>\n",
       "      <td>1.224647e-16</td>\n",
       "      <td>-1.0</td>\n",
       "    </tr>\n",
       "    <tr>\n",
       "      <th>541905</th>\n",
       "      <td>581587</td>\n",
       "      <td>22899</td>\n",
       "      <td>CHILDREN'S APRON DOLLY GIRL</td>\n",
       "      <td>6</td>\n",
       "      <td>2011-09-12 12:50:00</td>\n",
       "      <td>2.10</td>\n",
       "      <td>12680.0</td>\n",
       "      <td>France</td>\n",
       "      <td>12</td>\n",
       "      <td>12</td>\n",
       "      <td>9</td>\n",
       "      <td>2011</td>\n",
       "      <td>-1.0</td>\n",
       "      <td>-1.836970e-16</td>\n",
       "      <td>0.651372</td>\n",
       "      <td>-0.758758</td>\n",
       "      <td>1.224647e-16</td>\n",
       "      <td>-1.0</td>\n",
       "    </tr>\n",
       "    <tr>\n",
       "      <th>541906</th>\n",
       "      <td>581587</td>\n",
       "      <td>23254</td>\n",
       "      <td>CHILDRENS CUTLERY DOLLY GIRL</td>\n",
       "      <td>4</td>\n",
       "      <td>2011-09-12 12:50:00</td>\n",
       "      <td>4.15</td>\n",
       "      <td>12680.0</td>\n",
       "      <td>France</td>\n",
       "      <td>12</td>\n",
       "      <td>12</td>\n",
       "      <td>9</td>\n",
       "      <td>2011</td>\n",
       "      <td>-1.0</td>\n",
       "      <td>-1.836970e-16</td>\n",
       "      <td>0.651372</td>\n",
       "      <td>-0.758758</td>\n",
       "      <td>1.224647e-16</td>\n",
       "      <td>-1.0</td>\n",
       "    </tr>\n",
       "    <tr>\n",
       "      <th>541907</th>\n",
       "      <td>581587</td>\n",
       "      <td>23255</td>\n",
       "      <td>CHILDRENS CUTLERY CIRCUS PARADE</td>\n",
       "      <td>4</td>\n",
       "      <td>2011-09-12 12:50:00</td>\n",
       "      <td>4.15</td>\n",
       "      <td>12680.0</td>\n",
       "      <td>France</td>\n",
       "      <td>12</td>\n",
       "      <td>12</td>\n",
       "      <td>9</td>\n",
       "      <td>2011</td>\n",
       "      <td>-1.0</td>\n",
       "      <td>-1.836970e-16</td>\n",
       "      <td>0.651372</td>\n",
       "      <td>-0.758758</td>\n",
       "      <td>1.224647e-16</td>\n",
       "      <td>-1.0</td>\n",
       "    </tr>\n",
       "    <tr>\n",
       "      <th>541908</th>\n",
       "      <td>581587</td>\n",
       "      <td>22138</td>\n",
       "      <td>BAKING SET 9 PIECE RETROSPOT</td>\n",
       "      <td>3</td>\n",
       "      <td>2011-09-12 12:50:00</td>\n",
       "      <td>4.95</td>\n",
       "      <td>12680.0</td>\n",
       "      <td>France</td>\n",
       "      <td>12</td>\n",
       "      <td>12</td>\n",
       "      <td>9</td>\n",
       "      <td>2011</td>\n",
       "      <td>-1.0</td>\n",
       "      <td>-1.836970e-16</td>\n",
       "      <td>0.651372</td>\n",
       "      <td>-0.758758</td>\n",
       "      <td>1.224647e-16</td>\n",
       "      <td>-1.0</td>\n",
       "    </tr>\n",
       "  </tbody>\n",
       "</table>\n",
       "<p>541909 rows × 18 columns</p>\n",
       "</div>"
      ],
      "text/plain": [
       "       InvoiceNo StockCode                          Description  Quantity  \\\n",
       "0         536365    85123A   WHITE HANGING HEART T-LIGHT HOLDER         6   \n",
       "1         536365     71053                  WHITE METAL LANTERN         6   \n",
       "2         536365    84406B       CREAM CUPID HEARTS COAT HANGER         8   \n",
       "3         536365    84029G  KNITTED UNION FLAG HOT WATER BOTTLE         6   \n",
       "4         536365    84029E       RED WOOLLY HOTTIE WHITE HEART.         6   \n",
       "...          ...       ...                                  ...       ...   \n",
       "541904    581587     22613          PACK OF 20 SPACEBOY NAPKINS        12   \n",
       "541905    581587     22899         CHILDREN'S APRON DOLLY GIRL          6   \n",
       "541906    581587     23254        CHILDRENS CUTLERY DOLLY GIRL          4   \n",
       "541907    581587     23255      CHILDRENS CUTLERY CIRCUS PARADE         4   \n",
       "541908    581587     22138        BAKING SET 9 PIECE RETROSPOT          3   \n",
       "\n",
       "               InvoiceDate  UnitPrice  CustomerID         Country  hour  day  \\\n",
       "0      2010-01-12 08:26:00       2.55     17850.0  United Kingdom     8   12   \n",
       "1      2010-01-12 08:26:00       3.39     17850.0  United Kingdom     8   12   \n",
       "2      2010-01-12 08:26:00       2.75     17850.0  United Kingdom     8   12   \n",
       "3      2010-01-12 08:26:00       3.39     17850.0  United Kingdom     8   12   \n",
       "4      2010-01-12 08:26:00       3.39     17850.0  United Kingdom     8   12   \n",
       "...                    ...        ...         ...             ...   ...  ...   \n",
       "541904 2011-09-12 12:50:00       0.85     12680.0          France    12   12   \n",
       "541905 2011-09-12 12:50:00       2.10     12680.0          France    12   12   \n",
       "541906 2011-09-12 12:50:00       4.15     12680.0          France    12   12   \n",
       "541907 2011-09-12 12:50:00       4.15     12680.0          France    12   12   \n",
       "541908 2011-09-12 12:50:00       4.95     12680.0          France    12   12   \n",
       "\n",
       "        month  year  month_sin     month_cos   day_sin   day_cos  \\\n",
       "0           1  2010        0.5  8.660254e-01  0.651372 -0.758758   \n",
       "1           1  2010        0.5  8.660254e-01  0.651372 -0.758758   \n",
       "2           1  2010        0.5  8.660254e-01  0.651372 -0.758758   \n",
       "3           1  2010        0.5  8.660254e-01  0.651372 -0.758758   \n",
       "4           1  2010        0.5  8.660254e-01  0.651372 -0.758758   \n",
       "...       ...   ...        ...           ...       ...       ...   \n",
       "541904      9  2011       -1.0 -1.836970e-16  0.651372 -0.758758   \n",
       "541905      9  2011       -1.0 -1.836970e-16  0.651372 -0.758758   \n",
       "541906      9  2011       -1.0 -1.836970e-16  0.651372 -0.758758   \n",
       "541907      9  2011       -1.0 -1.836970e-16  0.651372 -0.758758   \n",
       "541908      9  2011       -1.0 -1.836970e-16  0.651372 -0.758758   \n",
       "\n",
       "            hour_sin  hour_cos  \n",
       "0       8.660254e-01      -0.5  \n",
       "1       8.660254e-01      -0.5  \n",
       "2       8.660254e-01      -0.5  \n",
       "3       8.660254e-01      -0.5  \n",
       "4       8.660254e-01      -0.5  \n",
       "...              ...       ...  \n",
       "541904  1.224647e-16      -1.0  \n",
       "541905  1.224647e-16      -1.0  \n",
       "541906  1.224647e-16      -1.0  \n",
       "541907  1.224647e-16      -1.0  \n",
       "541908  1.224647e-16      -1.0  \n",
       "\n",
       "[541909 rows x 18 columns]"
      ]
     },
     "execution_count": 67,
     "metadata": {},
     "output_type": "execute_result"
    }
   ],
   "source": [
    "df_dt"
   ]
  },
  {
   "cell_type": "code",
   "execution_count": 71,
   "id": "807c2cfc-6fa2-4f0d-b479-9fecaeac9eff",
   "metadata": {},
   "outputs": [],
   "source": [
    "plt.style.use('seaborn')"
   ]
  },
  {
   "cell_type": "code",
   "execution_count": 80,
   "id": "b53b205c-f7e6-46d5-ab18-c0c68be53deb",
   "metadata": {},
   "outputs": [
    {
     "data": {
      "image/png": "[encoded data removed]",
      "text/plain": [
       "<Figure size 800x550 with 1 Axes>"
      ]
     },
     "metadata": {},
     "output_type": "display_data"
    }
   ],
   "source": [
    "sns.scatterplot(data=df_dt, x='hour_sin', y='hour_cos')#.set_aspect('equal')\n",
    "plt.show()"
   ]
  },
  {
   "cell_type": "code",
   "execution_count": 77,
   "id": "7d4b9452-13db-42db-9316-27740eeaa886",
   "metadata": {},
   "outputs": [
    {
     "data": {
      "image/png": "[encoded data removed]",
      "text/plain": [
       "<Figure size 800x550 with 1 Axes>"
      ]
     },
     "metadata": {},
     "output_type": "display_data"
    }
   ],
   "source": [
    "sns.scatterplot(data=df_dt, x='day_sin', y='day_cos').set_aspect('equal')\n",
    "plt.show()"
   ]
  },
  {
   "cell_type": "markdown",
   "id": "1e3698c5-a471-428b-81b3-57aa88601f90",
   "metadata": {
    "tags": [
     "commentry"
    ]
   },
   "source": [
    "The chain breaking time is night, when shoping mall stay closed"
   ]
  },
  {
   "cell_type": "markdown",
   "id": "37b07cbb-b621-4c8d-8223-d961d502cbc5",
   "metadata": {},
   "source": [
    "### InvoiceNo "
   ]
  },
  {
   "cell_type": "markdown",
   "id": "5c1c49e6-79a9-425a-9009-a0b7c7a8bc3b",
   "metadata": {
    "tags": [
     "commentry"
    ]
   },
   "source": [
    "Invoice number should not be encoded because those are the smallest clusters. Have to think about it."
   ]
  },
  {
   "cell_type": "code",
   "execution_count": 4,
   "id": "8e28ed9f-76d1-474e-9712-40dc384dd5ba",
   "metadata": {},
   "outputs": [
    {
     "name": "stdout",
     "output_type": "stream",
     "text": [
      "# of non-numerical entry 9291\n"
     ]
    }
   ],
   "source": [
    "a = pd.to_numeric(df['InvoiceNo'], errors='coerce')\n",
    "df[a.isna()]['InvoiceNo'].unique()\n",
    "print('# of non-numerical entry',a.isna().sum())"
   ]
  },
  {
   "cell_type": "code",
   "execution_count": 5,
   "id": "fc42a76d-9b7d-46d9-bc96-a4566a327422",
   "metadata": {},
   "outputs": [],
   "source": [
    "x = [int(str(i).replace('C','').replace('A','')) for i in df.loc[:,\"InvoiceNo\"].to_numpy()]"
   ]
  },
  {
   "cell_type": "code",
   "execution_count": 6,
   "id": "b694dedf-68c0-41ed-aff3-9a13174fce58",
   "metadata": {},
   "outputs": [],
   "source": [
    "df.loc[:,'InvoiceNo'] = df.apply(lambda Z: int(str(Z['InvoiceNo']).replace('C','').replace('A','')), axis=1)"
   ]
  },
  {
   "cell_type": "code",
   "execution_count": 7,
   "id": "25d7a804-c119-4311-b806-1cea113d15f9",
   "metadata": {},
   "outputs": [
    {
     "data": {
      "text/plain": [
       "InvoiceNo        int64\n",
       "StockCode       object\n",
       "Description     object\n",
       "Quantity         int64\n",
       "InvoiceDate     object\n",
       "UnitPrice      float64\n",
       "CustomerID     float64\n",
       "Country         object\n",
       "dtype: object"
      ]
     },
     "execution_count": 7,
     "metadata": {},
     "output_type": "execute_result"
    }
   ],
   "source": [
    "df.dtypes"
   ]
  },
  {
   "cell_type": "markdown",
   "id": "523862a7-fd2d-43af-95bd-496e2763cab9",
   "metadata": {
    "tags": [
     "commentry"
    ]
   },
   "source": [
    "That's surely a mistake, and correcting that we can get `InvoiceNo` as **int**"
   ]
  },
  {
   "cell_type": "markdown",
   "id": "b9a87ce4-2a25-48b2-aa26-bb9fe795e459",
   "metadata": {},
   "source": [
    "### Description"
   ]
  },
  {
   "cell_type": "code",
   "execution_count": 121,
   "id": "b542e9e2-1f51-4f90-bfec-4d8c021362d7",
   "metadata": {},
   "outputs": [
    {
     "data": {
      "text/plain": [
       "WHITE HANGING HEART T-LIGHT HOLDER     2369\n",
       "REGENCY CAKESTAND 3 TIER               2200\n",
       "JUMBO BAG RED RETROSPOT                2159\n",
       "PARTY BUNTING                          1727\n",
       "LUNCH BAG RED RETROSPOT                1638\n",
       "                                       ... \n",
       "Missing                                   1\n",
       "historic computer difference?....se       1\n",
       "DUSTY PINK CHRISTMAS TREE 30CM            1\n",
       "WRAP BLUE RUSSIAN FOLKART                 1\n",
       "PINK BERTIE MOBILE PHONE CHARM            1\n",
       "Name: Description, Length: 4223, dtype: int64"
      ]
     },
     "execution_count": 121,
     "metadata": {},
     "output_type": "execute_result"
    }
   ],
   "source": [
    "df['Description'].value_counts()#.sort_values(ascending=False).head(10).sum()/df.shape[0]"
   ]
  },
  {
   "cell_type": "markdown",
   "id": "94f7a9a3-627a-48e1-96d6-5714d6bd995a",
   "metadata": {
    "tags": [
     "commentry"
    ]
   },
   "source": [
    "This part might have been redundunt and we have to check correlations, and we have to rely on stockCode, and encode that wisely such that no information is lost"
   ]
  },
  {
   "cell_type": "markdown",
   "id": "8d553d2e-49de-44bc-997c-30d5220ad28a",
   "metadata": {},
   "source": [
    "## Correlation between customerID and other features"
   ]
  },
  {
   "cell_type": "markdown",
   "id": "41b5e650-cf90-4df3-9a37-6d72a105dfee",
   "metadata": {
    "tags": [
     "commentry"
    ]
   },
   "source": [
    "Correlation of two categorical variable: link [HERE](https://towardsdatascience.com/the-search-for-categorical-correlation-a1cf7f1888c9)"
   ]
  },
  {
   "cell_type": "markdown",
   "id": "006c1508-60c0-4c20-97e1-5d4b322a46c1",
   "metadata": {
    "tags": [
     "Questions"
    ]
   },
   "source": [
    "Question: How to visualize relationship of two categorical variables"
   ]
  },
  {
   "cell_type": "code",
   "execution_count": 47,
   "id": "3281341b-da0b-4f8b-a0b9-add0c72b8186",
   "metadata": {},
   "outputs": [
    {
     "data": {
      "text/plain": [
       "<AxesSubplot:xlabel='StockCode', ylabel='Description'>"
      ]
     },
     "execution_count": 47,
     "metadata": {},
     "output_type": "execute_result"
    },
    {
     "data": {
      "image/png": "[encoded data removed]",
      "text/plain": [
       "<Figure size 640x480 with 1 Axes>"
      ]
     },
     "metadata": {},
     "output_type": "display_data"
    }
   ],
   "source": [
    "sns.scatterplot(data=df.sample(frac=0.01), x='StockCode', y='Description', )"
   ]
  },
  {
   "cell_type": "markdown",
   "id": "063d2340-1c2f-4596-94dd-dd55b895c679",
   "metadata": {
    "tags": [
     "commentry"
    ]
   },
   "source": [
    "Surely they are highly correlated but we have to find a good way to vsualize"
   ]
  },
  {
   "cell_type": "code",
   "execution_count": 113,
   "id": "26762d91-550c-407b-83c8-87a7fc121cb9",
   "metadata": {},
   "outputs": [
    {
     "data": {
      "text/plain": [
       "<AxesSubplot:xlabel='StockCode', ylabel='UnitPrice'>"
      ]
     },
     "execution_count": 113,
     "metadata": {},
     "output_type": "execute_result"
    },
    {
     "data": {
      "image/png": "[encoded data removed]",
      "text/plain": [
       "<Figure size 640x480 with 1 Axes>"
      ]
     },
     "metadata": {},
     "output_type": "display_data"
    }
   ],
   "source": [
    "sns.scatterplot(data=df.sample(frac=0.01), x='StockCode', y='UnitPrice', )"
   ]
  },
  {
   "cell_type": "code",
   "execution_count": null,
   "id": "ef571dc0-6046-4c18-a3f3-415414df2074",
   "metadata": {},
   "outputs": [],
   "source": []
  },
  {
   "cell_type": "code",
   "execution_count": 8,
   "id": "e961ad1e-4a59-45e1-9e3f-2ef2d7a322ed",
   "metadata": {},
   "outputs": [
    {
     "name": "stderr",
     "output_type": "stream",
     "text": [
      "/home/soumen/source/anaconda3/lib/python3.9/site-packages/seaborn/_decorators.py:36: FutureWarning: Pass the following variable as a keyword arg: y. From version 0.12, the only valid positional argument will be `data`, and passing other arguments without an explicit keyword will result in an error or misinterpretation.\n",
      "  warnings.warn(\n",
      "/home/soumen/source/anaconda3/lib/python3.9/site-packages/seaborn/distributions.py:1718: UserWarning: `shade_lowest` is now deprecated in favor of `thresh`. Setting `thresh=0.05`, but please update your code.\n",
      "  warnings.warn(msg, UserWarning)\n"
     ]
    },
    {
     "data": {
      "text/plain": [
       "<AxesSubplot:xlabel='CustomerID', ylabel='InvoiceNo'>"
      ]
     },
     "execution_count": 8,
     "metadata": {},
     "output_type": "execute_result"
    },
    {
     "data": {
      "image/png": "[encoded data removed]",
      "text/plain": [
       "<Figure size 640x480 with 1 Axes>"
      ]
     },
     "metadata": {},
     "output_type": "display_data"
    }
   ],
   "source": [
    "df_copy =  df[~df[\"CustomerID\"].isna()].sample(frac=0.01).copy()\n",
    "\n",
    "sns.kdeplot(df_copy[\"CustomerID\"], \n",
    "            df_copy[\"InvoiceNo\"],\n",
    "            color='r', shade=True,\n",
    "            cmap=\"Reds\", shade_lowest=False)"
   ]
  },
  {
   "cell_type": "markdown",
   "id": "e549a452-50f2-4e05-bd09-315481779ef4",
   "metadata": {
    "tags": [
     "commentry"
    ]
   },
   "source": [
    "Invoice no should be unique, but here I see it's not, several customerID with same Invoice no"
   ]
  },
  {
   "cell_type": "code",
   "execution_count": 16,
   "id": "2e592cc3-afd7-403f-9048-1e97523e7784",
   "metadata": {},
   "outputs": [
    {
     "data": {
      "text/plain": [
       "CustomerID  InvoiceDate       InvoiceNo\n",
       "12346.0     18-01-2011 10:01  541431        1\n",
       "            18-01-2011 10:17  541433        1\n",
       "12347.0     2/8/2011 8:48     562032       22\n",
       "            26-01-2011 14:30  542237       29\n",
       "            31-10-2011 12:25  573511       47\n",
       "            7/12/2010 14:57   537626       31\n",
       "            7/12/2011 15:52   581180       11\n",
       "            7/4/2011 10:43    549222       24\n",
       "            9/6/2011 13:01    556201       18\n",
       "12348.0     16-12-2010 19:09  539318       17\n",
       "            25-01-2011 10:42  541998        6\n",
       "            25-09-2011 13:13  568172        3\n",
       "            5/4/2011 10:47    548955        5\n",
       "12349.0     21-11-2011 09:51  577609       73\n",
       "12350.0     2/2/2011 16:01    543037       17\n",
       "12352.0     1/3/2011 14:57    545323        5\n",
       "            1/3/2011 15:47    545329        2\n",
       "            1/3/2011 15:49    545330        1\n",
       "            1/3/2011 15:52    545332        3\n",
       "            16-02-2011 12:33  544156       15\n",
       "Name: InvoiceNo, dtype: int64"
      ]
     },
     "execution_count": 16,
     "metadata": {},
     "output_type": "execute_result"
    }
   ],
   "source": [
    "df_copy =  df.copy()\n",
    "df_copy.groupby(by=[\"CustomerID\",\"InvoiceDate\"], dropna=False)[\"InvoiceNo\"].value_counts().head(20)"
   ]
  },
  {
   "cell_type": "code",
   "execution_count": 121,
   "id": "8d6cf4dd-b5b6-4d61-a830-7dd26f1077c4",
   "metadata": {},
   "outputs": [
    {
     "data": {
      "text/html": [
       "<div>\n",
       "<style scoped>\n",
       "    .dataframe tbody tr th:only-of-type {\n",
       "        vertical-align: middle;\n",
       "    }\n",
       "\n",
       "    .dataframe tbody tr th {\n",
       "        vertical-align: top;\n",
       "    }\n",
       "\n",
       "    .dataframe thead th {\n",
       "        text-align: right;\n",
       "    }\n",
       "</style>\n",
       "<table border=\"1\" class=\"dataframe\">\n",
       "  <thead>\n",
       "    <tr style=\"text-align: right;\">\n",
       "      <th></th>\n",
       "      <th>InvoiceNo</th>\n",
       "      <th>StockCode</th>\n",
       "      <th>Description</th>\n",
       "      <th>Quantity</th>\n",
       "      <th>InvoiceDate</th>\n",
       "      <th>UnitPrice</th>\n",
       "      <th>CustomerID</th>\n",
       "      <th>Country</th>\n",
       "    </tr>\n",
       "  </thead>\n",
       "  <tbody>\n",
       "    <tr>\n",
       "      <th>430237</th>\n",
       "      <td>573585</td>\n",
       "      <td>11001</td>\n",
       "      <td>ASSTD DESIGN RACING CAR PEN</td>\n",
       "      <td>2</td>\n",
       "      <td>31-10-2011 14:41</td>\n",
       "      <td>3.29</td>\n",
       "      <td>NaN</td>\n",
       "      <td>United Kingdom</td>\n",
       "    </tr>\n",
       "    <tr>\n",
       "      <th>430238</th>\n",
       "      <td>573585</td>\n",
       "      <td>15036</td>\n",
       "      <td>ASSORTED COLOURS SILK FAN</td>\n",
       "      <td>15</td>\n",
       "      <td>31-10-2011 14:41</td>\n",
       "      <td>1.63</td>\n",
       "      <td>NaN</td>\n",
       "      <td>United Kingdom</td>\n",
       "    </tr>\n",
       "    <tr>\n",
       "      <th>430239</th>\n",
       "      <td>573585</td>\n",
       "      <td>15039</td>\n",
       "      <td>SANDALWOOD FAN</td>\n",
       "      <td>15</td>\n",
       "      <td>31-10-2011 14:41</td>\n",
       "      <td>1.63</td>\n",
       "      <td>NaN</td>\n",
       "      <td>United Kingdom</td>\n",
       "    </tr>\n",
       "    <tr>\n",
       "      <th>430240</th>\n",
       "      <td>573585</td>\n",
       "      <td>15056BL</td>\n",
       "      <td>EDWARDIAN PARASOL BLACK</td>\n",
       "      <td>1</td>\n",
       "      <td>31-10-2011 14:41</td>\n",
       "      <td>12.46</td>\n",
       "      <td>NaN</td>\n",
       "      <td>United Kingdom</td>\n",
       "    </tr>\n",
       "    <tr>\n",
       "      <th>430241</th>\n",
       "      <td>573585</td>\n",
       "      <td>15056N</td>\n",
       "      <td>EDWARDIAN PARASOL NATURAL</td>\n",
       "      <td>1</td>\n",
       "      <td>31-10-2011 14:41</td>\n",
       "      <td>12.46</td>\n",
       "      <td>NaN</td>\n",
       "      <td>United Kingdom</td>\n",
       "    </tr>\n",
       "    <tr>\n",
       "      <th>...</th>\n",
       "      <td>...</td>\n",
       "      <td>...</td>\n",
       "      <td>...</td>\n",
       "      <td>...</td>\n",
       "      <td>...</td>\n",
       "      <td>...</td>\n",
       "      <td>...</td>\n",
       "      <td>...</td>\n",
       "    </tr>\n",
       "    <tr>\n",
       "      <th>431346</th>\n",
       "      <td>573585</td>\n",
       "      <td>90209C</td>\n",
       "      <td>PINK ENAMEL+GLASS HAIR COMB</td>\n",
       "      <td>3</td>\n",
       "      <td>31-10-2011 14:41</td>\n",
       "      <td>2.07</td>\n",
       "      <td>NaN</td>\n",
       "      <td>United Kingdom</td>\n",
       "    </tr>\n",
       "    <tr>\n",
       "      <th>431347</th>\n",
       "      <td>573585</td>\n",
       "      <td>90214S</td>\n",
       "      <td>LETTER \"S\" BLING KEY RING</td>\n",
       "      <td>1</td>\n",
       "      <td>31-10-2011 14:41</td>\n",
       "      <td>0.83</td>\n",
       "      <td>NaN</td>\n",
       "      <td>United Kingdom</td>\n",
       "    </tr>\n",
       "    <tr>\n",
       "      <th>431348</th>\n",
       "      <td>573585</td>\n",
       "      <td>DOT</td>\n",
       "      <td>DOTCOM POSTAGE</td>\n",
       "      <td>1</td>\n",
       "      <td>31-10-2011 14:41</td>\n",
       "      <td>2019.05</td>\n",
       "      <td>NaN</td>\n",
       "      <td>United Kingdom</td>\n",
       "    </tr>\n",
       "    <tr>\n",
       "      <th>431349</th>\n",
       "      <td>573585</td>\n",
       "      <td>gift_0001_20</td>\n",
       "      <td>Dotcomgiftshop Gift Voucher �20.00</td>\n",
       "      <td>1</td>\n",
       "      <td>31-10-2011 14:41</td>\n",
       "      <td>16.67</td>\n",
       "      <td>NaN</td>\n",
       "      <td>United Kingdom</td>\n",
       "    </tr>\n",
       "    <tr>\n",
       "      <th>431350</th>\n",
       "      <td>573585</td>\n",
       "      <td>23539</td>\n",
       "      <td>WALL ART LOVES' SECRET</td>\n",
       "      <td>2</td>\n",
       "      <td>31-10-2011 14:41</td>\n",
       "      <td>5.79</td>\n",
       "      <td>NaN</td>\n",
       "      <td>United Kingdom</td>\n",
       "    </tr>\n",
       "  </tbody>\n",
       "</table>\n",
       "<p>1114 rows × 8 columns</p>\n",
       "</div>"
      ],
      "text/plain": [
       "        InvoiceNo     StockCode                         Description  Quantity  \\\n",
       "430237     573585         11001         ASSTD DESIGN RACING CAR PEN         2   \n",
       "430238     573585         15036           ASSORTED COLOURS SILK FAN        15   \n",
       "430239     573585         15039                      SANDALWOOD FAN        15   \n",
       "430240     573585       15056BL             EDWARDIAN PARASOL BLACK         1   \n",
       "430241     573585        15056N           EDWARDIAN PARASOL NATURAL         1   \n",
       "...           ...           ...                                 ...       ...   \n",
       "431346     573585        90209C         PINK ENAMEL+GLASS HAIR COMB         3   \n",
       "431347     573585        90214S           LETTER \"S\" BLING KEY RING         1   \n",
       "431348     573585           DOT                      DOTCOM POSTAGE         1   \n",
       "431349     573585  gift_0001_20  Dotcomgiftshop Gift Voucher �20.00         1   \n",
       "431350     573585         23539             WALL ART LOVES' SECRET          2   \n",
       "\n",
       "             InvoiceDate  UnitPrice  CustomerID         Country  \n",
       "430237  31-10-2011 14:41       3.29         NaN  United Kingdom  \n",
       "430238  31-10-2011 14:41       1.63         NaN  United Kingdom  \n",
       "430239  31-10-2011 14:41       1.63         NaN  United Kingdom  \n",
       "430240  31-10-2011 14:41      12.46         NaN  United Kingdom  \n",
       "430241  31-10-2011 14:41      12.46         NaN  United Kingdom  \n",
       "...                  ...        ...         ...             ...  \n",
       "431346  31-10-2011 14:41       2.07         NaN  United Kingdom  \n",
       "431347  31-10-2011 14:41       0.83         NaN  United Kingdom  \n",
       "431348  31-10-2011 14:41    2019.05         NaN  United Kingdom  \n",
       "431349  31-10-2011 14:41      16.67         NaN  United Kingdom  \n",
       "431350  31-10-2011 14:41       5.79         NaN  United Kingdom  \n",
       "\n",
       "[1114 rows x 8 columns]"
      ]
     },
     "execution_count": 121,
     "metadata": {},
     "output_type": "execute_result"
    }
   ],
   "source": [
    "df.query('InvoiceNo==573585')"
   ]
  },
  {
   "cell_type": "code",
   "execution_count": 120,
   "id": "12277443-55e1-4980-8619-c68b2e9e59d9",
   "metadata": {},
   "outputs": [
    {
     "data": {
      "text/plain": [
       "573585    1114\n",
       "581219     749\n",
       "581492     731\n",
       "580729     721\n",
       "558475     705\n",
       "          ... \n",
       "554023       1\n",
       "554022       1\n",
       "554021       1\n",
       "554020       1\n",
       "558901       1\n",
       "Name: InvoiceNo, Length: 25900, dtype: int64"
      ]
     },
     "execution_count": 120,
     "metadata": {},
     "output_type": "execute_result"
    }
   ],
   "source": [
    "df['InvoiceNo'].value_counts()"
   ]
  },
  {
   "cell_type": "markdown",
   "id": "69cff580-d47c-4bc3-bd55-3f0b3390e1e3",
   "metadata": {
    "tags": []
   },
   "source": [
    "# Plan"
   ]
  },
  {
   "cell_type": "markdown",
   "id": "0305f73e-35b5-46bb-807f-58ee3089ff2d",
   "metadata": {},
   "source": [
    "## Feature planning (Mostly DONE)\n",
    "\n",
    "* `InvoiceNo`: Made numeric (**Check whether it matches with other existing nos after removeing [CA]**), now okay\n",
    "* `StockCode`   : Frequency encoding \n",
    "* `Description` : Redundunt (Stock Code is a better description)\n",
    "* `Quantity`    : OK\n",
    "*  `InvoiceDate` : Cyclic trasformation \n",
    "* `UnitPrice` : OK\n",
    "* `CustomerID`: Lots of NaN, can it be redundunt? Invoice No can be a good predictor. But we can use Nan as diferent category who are not regular customer\n",
    "* `Country`   : OHE\n",
    "\n",
    "## EDA  (TBD)\n",
    "   \n",
    "   * Plotting tools for categorical features [Kaggle nb for EDA](https://www.kaggle.com/code/thebrownviking20/in-depth-eda-and-k-means-clustering/notebook)\n",
    "   * "
   ]
  },
  {
   "cell_type": "code",
   "execution_count": null,
   "id": "3a32952e-002d-4917-9ea0-c65cf36a14fe",
   "metadata": {},
   "outputs": [],
   "source": []
  }
 ],
 "metadata": {
  "kernelspec": {
   "display_name": "Python 3 (ipykernel)",
   "language": "python",
   "name": "python3"
  },
  "language_info": {
   "codemirror_mode": {
    "name": "ipython",
    "version": 3
   },
   "file_extension": ".py",
   "mimetype": "text/x-python",
   "name": "python",
   "nbconvert_exporter": "python",
   "pygments_lexer": "ipython3",
   "version": "3.9.12"
  },
  "toc-autonumbering": false,
  "toc-showcode": false,
  "toc-showmarkdowntxt": false,
  "toc-showtags": false
 },
 "nbformat": 4,
 "nbformat_minor": 5
}
