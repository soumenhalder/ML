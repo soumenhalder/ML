{
 "cells": [
  {
   "cell_type": "markdown",
   "id": "f1ccc1dc-28d4-46eb-90c8-51e312340787",
   "metadata": {},
   "source": [
    "# Importing libraries"
   ]
  },
  {
   "cell_type": "code",
   "execution_count": 91,
   "id": "7f45f941-b976-4234-b716-56ed81fd0a19",
   "metadata": {},
   "outputs": [],
   "source": [
    "# pandas\n",
    "import pandas as pd\n",
    "\n",
    "\n",
    "# plotting\n",
    "import matplotlib.pyplot as plt\n",
    "\n",
    "# feature tuning\n",
    "from category_encoders import CountEncoder"
   ]
  },
  {
   "cell_type": "markdown",
   "id": "3e0bd806-e841-4030-8fbf-728d10543cab",
   "metadata": {},
   "source": [
    "Dataset downloaded from kaggle link [here](https://www.kaggle.com/datasets/shrutipandit707/onlineretaildata)\n",
    "\n",
    "Description of the dataset\n",
    "-----------\n",
    "This is an online retail dataset that can be used for frequency,recency and monetary analysis and for applying clustering algorithms such as K-Means. It's a great dataset for practicing Clustering Algorithms."
   ]
  },
  {
   "cell_type": "markdown",
   "id": "54440231-d026-4bbc-b4ef-7bbdc203c9bf",
   "metadata": {},
   "source": [
    "# Importing data and EDA"
   ]
  },
  {
   "cell_type": "code",
   "execution_count": 5,
   "id": "e8e38ddd-0862-41c5-98da-8a1907d36d6d",
   "metadata": {},
   "outputs": [],
   "source": [
    "df = pd.read_csv('Online_Retail.csv')"
   ]
  },
  {
   "cell_type": "code",
   "execution_count": 102,
   "id": "41ef125e-4c85-4084-8f5b-4b9bf2cd8236",
   "metadata": {},
   "outputs": [
    {
     "data": {
      "text/html": [
       "<div>\n",
       "<style scoped>\n",
       "    .dataframe tbody tr th:only-of-type {\n",
       "        vertical-align: middle;\n",
       "    }\n",
       "\n",
       "    .dataframe tbody tr th {\n",
       "        vertical-align: top;\n",
       "    }\n",
       "\n",
       "    .dataframe thead th {\n",
       "        text-align: right;\n",
       "    }\n",
       "</style>\n",
       "<table border=\"1\" class=\"dataframe\">\n",
       "  <thead>\n",
       "    <tr style=\"text-align: right;\">\n",
       "      <th></th>\n",
       "      <th>InvoiceNo</th>\n",
       "      <th>StockCode</th>\n",
       "      <th>Description</th>\n",
       "      <th>Quantity</th>\n",
       "      <th>InvoiceDate</th>\n",
       "      <th>UnitPrice</th>\n",
       "      <th>CustomerID</th>\n",
       "      <th>Country</th>\n",
       "    </tr>\n",
       "  </thead>\n",
       "  <tbody>\n",
       "    <tr>\n",
       "      <th>0</th>\n",
       "      <td>536365</td>\n",
       "      <td>85123A</td>\n",
       "      <td>WHITE HANGING HEART T-LIGHT HOLDER</td>\n",
       "      <td>6</td>\n",
       "      <td>1/12/2010 8:26</td>\n",
       "      <td>2.55</td>\n",
       "      <td>17850.0</td>\n",
       "      <td>United Kingdom</td>\n",
       "    </tr>\n",
       "    <tr>\n",
       "      <th>1</th>\n",
       "      <td>536365</td>\n",
       "      <td>71053</td>\n",
       "      <td>WHITE METAL LANTERN</td>\n",
       "      <td>6</td>\n",
       "      <td>1/12/2010 8:26</td>\n",
       "      <td>3.39</td>\n",
       "      <td>17850.0</td>\n",
       "      <td>United Kingdom</td>\n",
       "    </tr>\n",
       "    <tr>\n",
       "      <th>2</th>\n",
       "      <td>536365</td>\n",
       "      <td>84406B</td>\n",
       "      <td>CREAM CUPID HEARTS COAT HANGER</td>\n",
       "      <td>8</td>\n",
       "      <td>1/12/2010 8:26</td>\n",
       "      <td>2.75</td>\n",
       "      <td>17850.0</td>\n",
       "      <td>United Kingdom</td>\n",
       "    </tr>\n",
       "    <tr>\n",
       "      <th>3</th>\n",
       "      <td>536365</td>\n",
       "      <td>84029G</td>\n",
       "      <td>KNITTED UNION FLAG HOT WATER BOTTLE</td>\n",
       "      <td>6</td>\n",
       "      <td>1/12/2010 8:26</td>\n",
       "      <td>3.39</td>\n",
       "      <td>17850.0</td>\n",
       "      <td>United Kingdom</td>\n",
       "    </tr>\n",
       "    <tr>\n",
       "      <th>4</th>\n",
       "      <td>536365</td>\n",
       "      <td>84029E</td>\n",
       "      <td>RED WOOLLY HOTTIE WHITE HEART.</td>\n",
       "      <td>6</td>\n",
       "      <td>1/12/2010 8:26</td>\n",
       "      <td>3.39</td>\n",
       "      <td>17850.0</td>\n",
       "      <td>United Kingdom</td>\n",
       "    </tr>\n",
       "  </tbody>\n",
       "</table>\n",
       "</div>"
      ],
      "text/plain": [
       "  InvoiceNo StockCode                          Description  Quantity  \\\n",
       "0    536365    85123A   WHITE HANGING HEART T-LIGHT HOLDER         6   \n",
       "1    536365     71053                  WHITE METAL LANTERN         6   \n",
       "2    536365    84406B       CREAM CUPID HEARTS COAT HANGER         8   \n",
       "3    536365    84029G  KNITTED UNION FLAG HOT WATER BOTTLE         6   \n",
       "4    536365    84029E       RED WOOLLY HOTTIE WHITE HEART.         6   \n",
       "\n",
       "      InvoiceDate  UnitPrice  CustomerID         Country  \n",
       "0  1/12/2010 8:26       2.55     17850.0  United Kingdom  \n",
       "1  1/12/2010 8:26       3.39     17850.0  United Kingdom  \n",
       "2  1/12/2010 8:26       2.75     17850.0  United Kingdom  \n",
       "3  1/12/2010 8:26       3.39     17850.0  United Kingdom  \n",
       "4  1/12/2010 8:26       3.39     17850.0  United Kingdom  "
      ]
     },
     "execution_count": 102,
     "metadata": {},
     "output_type": "execute_result"
    }
   ],
   "source": [
    "# check few rows\n",
    "df.head()"
   ]
  },
  {
   "cell_type": "code",
   "execution_count": 11,
   "id": "d2a416f8-b230-426a-a81d-2a8bd941c76e",
   "metadata": {},
   "outputs": [
    {
     "data": {
      "text/plain": [
       "InvoiceNo       object\n",
       "StockCode       object\n",
       "Description     object\n",
       "Quantity         int64\n",
       "InvoiceDate     object\n",
       "UnitPrice      float64\n",
       "CustomerID     float64\n",
       "Country         object\n",
       "dtype: object"
      ]
     },
     "execution_count": 11,
     "metadata": {},
     "output_type": "execute_result"
    }
   ],
   "source": [
    "# data types of each features\n",
    "df.dtypes"
   ]
  },
  {
   "cell_type": "markdown",
   "id": "200a197a-3d9c-435b-bdf6-fb31c4da9ec4",
   "metadata": {},
   "source": [
    "## Duplicate row"
   ]
  },
  {
   "cell_type": "code",
   "execution_count": 30,
   "id": "6704be06-84e6-4f53-8bc8-a8b4e08c0c51",
   "metadata": {},
   "outputs": [
    {
     "data": {
      "text/plain": [
       "0.9721189350979592"
      ]
     },
     "execution_count": 30,
     "metadata": {},
     "output_type": "execute_result"
    }
   ],
   "source": [
    "100 * df[df.duplicated()].shape[0]/df.shape[0]"
   ]
  },
  {
   "cell_type": "markdown",
   "id": "df92cbf9-545b-4b88-bbc5-39ecea460a98",
   "metadata": {
    "tags": [
     "commentry"
    ]
   },
   "source": [
    "0.97% training examples are duplicate row"
   ]
  },
  {
   "cell_type": "markdown",
   "id": "718fcb18-84cf-4ed1-afa6-e1fbbfb36688",
   "metadata": {
    "tags": [
     "Questions"
    ]
   },
   "source": [
    "* Question : Should the duplicate data be removed to run clustering algorithm? (Asked in [Stack](https://stats.stackexchange.com/questions/152808/do-i-need-to-remove-duplicate-objects-for-cluster-analysis-of-objects))\n",
    "\n",
    "* Answer\n",
    "    * \"Having duplicates indicate that those are particularly likely combinations of variable values, which should get a higher weight because of that. This means observations with the same values do not become redundant.\"\n",
    "    * If your data set has lots of duplicates, it can accelerate the processing a lot to merge them and use weights instead."
   ]
  },
  {
   "cell_type": "markdown",
   "id": "b2178016-0106-447a-8db9-210506852c31",
   "metadata": {},
   "source": [
    "## Missing values"
   ]
  },
  {
   "cell_type": "code",
   "execution_count": 29,
   "id": "fe3beaad-1a10-4d11-97e2-73aa4a85906b",
   "metadata": {},
   "outputs": [
    {
     "data": {
      "text/plain": [
       "InvoiceNo      False\n",
       "StockCode      False\n",
       "Description     True\n",
       "Quantity       False\n",
       "InvoiceDate    False\n",
       "UnitPrice      False\n",
       "CustomerID      True\n",
       "Country        False\n",
       "dtype: bool"
      ]
     },
     "execution_count": 29,
     "metadata": {},
     "output_type": "execute_result"
    }
   ],
   "source": [
    "# which features has missing values() \n",
    "df.isna().any()"
   ]
  },
  {
   "cell_type": "code",
   "execution_count": 66,
   "id": "12000c82-8fab-47c5-9517-013199917a11",
   "metadata": {},
   "outputs": [
    {
     "data": {
      "text/plain": [
       "(0.002683107311375157, 0.249266943342886)"
      ]
     },
     "execution_count": 66,
     "metadata": {},
     "output_type": "execute_result"
    }
   ],
   "source": [
    "df[\"Description\"].isna().sum()/df.shape[0], df[\"CustomerID\"].isna().sum()/df.shape[0]"
   ]
  },
  {
   "cell_type": "markdown",
   "id": "6fa79d3d-12fe-4b89-b0d3-34a64b411cea",
   "metadata": {
    "tags": [
     "commentry"
    ]
   },
   "source": [
    "\"Description\"(0.27%) and \"CustomerID\" (24.9%) columns has missing entry"
   ]
  },
  {
   "cell_type": "markdown",
   "id": "0f4ab20d-886f-4840-a28e-30ab2b9fee24",
   "metadata": {
    "tags": [
     "Questions"
    ]
   },
   "source": [
    "* Question: What imputing strategy should we take for customerID?\n",
    "* Answer: Check the correlation between customerID and invoice no or other features, Might be this is a redundant feature and we can get rid of this easily\n"
   ]
  },
  {
   "cell_type": "markdown",
   "id": "02d206c4-6b8e-4247-b393-9dd6701429f4",
   "metadata": {},
   "source": [
    "## Encoding the categorical features"
   ]
  },
  {
   "cell_type": "markdown",
   "id": "e3a53f90-9d04-4c45-a9d8-1a0b6e9d6fa0",
   "metadata": {},
   "source": [
    "### Stock code"
   ]
  },
  {
   "cell_type": "code",
   "execution_count": 87,
   "id": "24d46db0-e4df-4d45-840b-ab33a730f326",
   "metadata": {},
   "outputs": [
    {
     "data": {
      "text/plain": [
       "4070"
      ]
     },
     "execution_count": 87,
     "metadata": {},
     "output_type": "execute_result"
    }
   ],
   "source": [
    "len(df['StockCode'].value_counts())"
   ]
  },
  {
   "cell_type": "markdown",
   "id": "2f7ac8b1-c456-4c57-b39c-5305ee048538",
   "metadata": {
    "tags": [
     "commentry"
    ]
   },
   "source": [
    "\"StockCode\" has very high cardinality"
   ]
  },
  {
   "cell_type": "code",
   "execution_count": 88,
   "id": "7b25323e-8696-40ad-8cfb-17ab35ce4fb7",
   "metadata": {},
   "outputs": [
    {
     "data": {
      "text/plain": [
       "0.1882419372994359"
      ]
     },
     "execution_count": 88,
     "metadata": {},
     "output_type": "execute_result"
    }
   ],
   "source": [
    "# How much fraction top n category\"?\n",
    "df['StockCode'].value_counts().sort_values(ascending=False).head(100).sum()/df.shape[0]"
   ]
  },
  {
   "cell_type": "markdown",
   "id": "284e8667-7948-4c6b-8b80-41e5d6e4c9d0",
   "metadata": {
    "tags": [
     "commentry"
    ]
   },
   "source": [
    "Very high cardinality, will use frequency encoding"
   ]
  },
  {
   "cell_type": "code",
   "execution_count": 93,
   "id": "6ee1a24b-1297-4edc-aa5e-ada483318d10",
   "metadata": {},
   "outputs": [
    {
     "data": {
      "text/html": [
       "<div>\n",
       "<style scoped>\n",
       "    .dataframe tbody tr th:only-of-type {\n",
       "        vertical-align: middle;\n",
       "    }\n",
       "\n",
       "    .dataframe tbody tr th {\n",
       "        vertical-align: top;\n",
       "    }\n",
       "\n",
       "    .dataframe thead th {\n",
       "        text-align: right;\n",
       "    }\n",
       "</style>\n",
       "<table border=\"1\" class=\"dataframe\">\n",
       "  <thead>\n",
       "    <tr style=\"text-align: right;\">\n",
       "      <th></th>\n",
       "      <th>InvoiceNo</th>\n",
       "      <th>StockCode</th>\n",
       "      <th>Description</th>\n",
       "      <th>Quantity</th>\n",
       "      <th>InvoiceDate</th>\n",
       "      <th>UnitPrice</th>\n",
       "      <th>CustomerID</th>\n",
       "      <th>Country</th>\n",
       "    </tr>\n",
       "  </thead>\n",
       "  <tbody>\n",
       "    <tr>\n",
       "      <th>0</th>\n",
       "      <td>536365</td>\n",
       "      <td>2313</td>\n",
       "      <td>WHITE HANGING HEART T-LIGHT HOLDER</td>\n",
       "      <td>6</td>\n",
       "      <td>1/12/2010 8:26</td>\n",
       "      <td>2.55</td>\n",
       "      <td>17850.0</td>\n",
       "      <td>United Kingdom</td>\n",
       "    </tr>\n",
       "    <tr>\n",
       "      <th>1</th>\n",
       "      <td>536365</td>\n",
       "      <td>355</td>\n",
       "      <td>WHITE METAL LANTERN</td>\n",
       "      <td>6</td>\n",
       "      <td>1/12/2010 8:26</td>\n",
       "      <td>3.39</td>\n",
       "      <td>17850.0</td>\n",
       "      <td>United Kingdom</td>\n",
       "    </tr>\n",
       "    <tr>\n",
       "      <th>2</th>\n",
       "      <td>536365</td>\n",
       "      <td>296</td>\n",
       "      <td>CREAM CUPID HEARTS COAT HANGER</td>\n",
       "      <td>8</td>\n",
       "      <td>1/12/2010 8:26</td>\n",
       "      <td>2.75</td>\n",
       "      <td>17850.0</td>\n",
       "      <td>United Kingdom</td>\n",
       "    </tr>\n",
       "    <tr>\n",
       "      <th>3</th>\n",
       "      <td>536365</td>\n",
       "      <td>474</td>\n",
       "      <td>KNITTED UNION FLAG HOT WATER BOTTLE</td>\n",
       "      <td>6</td>\n",
       "      <td>1/12/2010 8:26</td>\n",
       "      <td>3.39</td>\n",
       "      <td>17850.0</td>\n",
       "      <td>United Kingdom</td>\n",
       "    </tr>\n",
       "    <tr>\n",
       "      <th>4</th>\n",
       "      <td>536365</td>\n",
       "      <td>452</td>\n",
       "      <td>RED WOOLLY HOTTIE WHITE HEART.</td>\n",
       "      <td>6</td>\n",
       "      <td>1/12/2010 8:26</td>\n",
       "      <td>3.39</td>\n",
       "      <td>17850.0</td>\n",
       "      <td>United Kingdom</td>\n",
       "    </tr>\n",
       "    <tr>\n",
       "      <th>5</th>\n",
       "      <td>536365</td>\n",
       "      <td>389</td>\n",
       "      <td>SET 7 BABUSHKA NESTING BOXES</td>\n",
       "      <td>2</td>\n",
       "      <td>1/12/2010 8:26</td>\n",
       "      <td>7.65</td>\n",
       "      <td>17850.0</td>\n",
       "      <td>United Kingdom</td>\n",
       "    </tr>\n",
       "    <tr>\n",
       "      <th>6</th>\n",
       "      <td>536365</td>\n",
       "      <td>141</td>\n",
       "      <td>GLASS STAR FROSTED T-LIGHT HOLDER</td>\n",
       "      <td>6</td>\n",
       "      <td>1/12/2010 8:26</td>\n",
       "      <td>4.25</td>\n",
       "      <td>17850.0</td>\n",
       "      <td>United Kingdom</td>\n",
       "    </tr>\n",
       "    <tr>\n",
       "      <th>7</th>\n",
       "      <td>536366</td>\n",
       "      <td>516</td>\n",
       "      <td>HAND WARMER UNION JACK</td>\n",
       "      <td>6</td>\n",
       "      <td>1/12/2010 8:28</td>\n",
       "      <td>1.85</td>\n",
       "      <td>17850.0</td>\n",
       "      <td>United Kingdom</td>\n",
       "    </tr>\n",
       "    <tr>\n",
       "      <th>8</th>\n",
       "      <td>536366</td>\n",
       "      <td>415</td>\n",
       "      <td>HAND WARMER RED POLKA DOT</td>\n",
       "      <td>6</td>\n",
       "      <td>1/12/2010 8:28</td>\n",
       "      <td>1.85</td>\n",
       "      <td>17850.0</td>\n",
       "      <td>United Kingdom</td>\n",
       "    </tr>\n",
       "    <tr>\n",
       "      <th>9</th>\n",
       "      <td>536367</td>\n",
       "      <td>1502</td>\n",
       "      <td>ASSORTED COLOUR BIRD ORNAMENT</td>\n",
       "      <td>32</td>\n",
       "      <td>1/12/2010 8:34</td>\n",
       "      <td>1.69</td>\n",
       "      <td>13047.0</td>\n",
       "      <td>United Kingdom</td>\n",
       "    </tr>\n",
       "  </tbody>\n",
       "</table>\n",
       "</div>"
      ],
      "text/plain": [
       "  InvoiceNo  StockCode                          Description  Quantity  \\\n",
       "0    536365       2313   WHITE HANGING HEART T-LIGHT HOLDER         6   \n",
       "1    536365        355                  WHITE METAL LANTERN         6   \n",
       "2    536365        296       CREAM CUPID HEARTS COAT HANGER         8   \n",
       "3    536365        474  KNITTED UNION FLAG HOT WATER BOTTLE         6   \n",
       "4    536365        452       RED WOOLLY HOTTIE WHITE HEART.         6   \n",
       "5    536365        389         SET 7 BABUSHKA NESTING BOXES         2   \n",
       "6    536365        141    GLASS STAR FROSTED T-LIGHT HOLDER         6   \n",
       "7    536366        516               HAND WARMER UNION JACK         6   \n",
       "8    536366        415            HAND WARMER RED POLKA DOT         6   \n",
       "9    536367       1502        ASSORTED COLOUR BIRD ORNAMENT        32   \n",
       "\n",
       "      InvoiceDate  UnitPrice  CustomerID         Country  \n",
       "0  1/12/2010 8:26       2.55     17850.0  United Kingdom  \n",
       "1  1/12/2010 8:26       3.39     17850.0  United Kingdom  \n",
       "2  1/12/2010 8:26       2.75     17850.0  United Kingdom  \n",
       "3  1/12/2010 8:26       3.39     17850.0  United Kingdom  \n",
       "4  1/12/2010 8:26       3.39     17850.0  United Kingdom  \n",
       "5  1/12/2010 8:26       7.65     17850.0  United Kingdom  \n",
       "6  1/12/2010 8:26       4.25     17850.0  United Kingdom  \n",
       "7  1/12/2010 8:28       1.85     17850.0  United Kingdom  \n",
       "8  1/12/2010 8:28       1.85     17850.0  United Kingdom  \n",
       "9  1/12/2010 8:34       1.69     13047.0  United Kingdom  "
      ]
     },
     "execution_count": 93,
     "metadata": {},
     "output_type": "execute_result"
    }
   ],
   "source": [
    "CountEncoder(cols=['StockCode']).fit(df).transform(df).head(10)"
   ]
  },
  {
   "cell_type": "markdown",
   "id": "180872be-4ec1-42f4-a0f1-14e00f8303ee",
   "metadata": {},
   "source": [
    "### Country"
   ]
  },
  {
   "cell_type": "code",
   "execution_count": 97,
   "id": "a4b98c9d-1fb9-4e13-866a-e28bb2b4fdb0",
   "metadata": {},
   "outputs": [
    {
     "data": {
      "text/plain": [
       "United Kingdom    495478\n",
       "Germany             9495\n",
       "France              8557\n",
       "EIRE                8196\n",
       "Spain               2533\n",
       "Name: Country, dtype: int64"
      ]
     },
     "execution_count": 97,
     "metadata": {},
     "output_type": "execute_result"
    }
   ],
   "source": [
    "df['Country'].value_counts().head(5)"
   ]
  },
  {
   "cell_type": "markdown",
   "id": "cd520389-a885-4205-86c2-1f4ab27f3cca",
   "metadata": {
    "tags": [
     "Questions"
    ]
   },
   "source": [
    "Question: Any special techniques to encode country name for clustering algorithm? Say for example if we perform label encoding then some information like common habit amonst subcontinent information may be lost. So coordinate can be used!"
   ]
  },
  {
   "cell_type": "markdown",
   "id": "d82ac2a0-63f6-43c6-b536-323274009a61",
   "metadata": {
    "tags": [
     "commentry"
    ]
   },
   "source": [
    "`Do One hot encoding`"
   ]
  },
  {
   "cell_type": "markdown",
   "id": "da221841-250a-4e22-b457-8dd7a7b82452",
   "metadata": {},
   "source": [
    "### Invoice date"
   ]
  },
  {
   "cell_type": "markdown",
   "id": "774d5b2a-39d2-4728-b699-c01baa624880",
   "metadata": {
    "tags": [
     "commentry"
    ]
   },
   "source": [
    "Use Cyclical transformer or other similar techniques to transform datetime. \n",
    "\n",
    "References:\n",
    "* [Search Engine](https://www.google.com/search?q=how+to+encode+data+time+in+machine+learning&oq=how+to+encode+data+time+in+mach&aqs=chrome.1.69i57j33i160j33i21l2j33i22i29i30l6.9079j0j7&sourceid=chrome&ie=UTF-8)\n",
    "* [Kaggle](https://www.kaggle.com/code/avanwyk/encoding-cyclical-features-for-deep-learning)\n",
    "* [Stack exchange](https://stats.stackexchange.com/questions/311494/best-practice-for-encoding-datetime-in-machine-learning)"
   ]
  },
  {
   "cell_type": "code",
   "execution_count": null,
   "id": "de86d044-8007-4160-b332-1eaa1c62414d",
   "metadata": {},
   "outputs": [],
   "source": []
  },
  {
   "cell_type": "markdown",
   "id": "37b07cbb-b621-4c8d-8223-d961d502cbc5",
   "metadata": {},
   "source": [
    "### InvoiceNo "
   ]
  },
  {
   "cell_type": "code",
   "execution_count": 118,
   "id": "0c71bfce-15c5-4443-9e38-31ff410462dc",
   "metadata": {},
   "outputs": [
    {
     "data": {
      "text/plain": [
       "573585     1114\n",
       "581219      749\n",
       "581492      731\n",
       "580729      721\n",
       "558475      705\n",
       "           ... \n",
       "554023        1\n",
       "554022        1\n",
       "554021        1\n",
       "554020        1\n",
       "C558901       1\n",
       "Name: InvoiceNo, Length: 25900, dtype: int64"
      ]
     },
     "execution_count": 118,
     "metadata": {},
     "output_type": "execute_result"
    }
   ],
   "source": [
    "df['InvoiceNo'].value_counts()"
   ]
  },
  {
   "cell_type": "markdown",
   "id": "5c1c49e6-79a9-425a-9009-a0b7c7a8bc3b",
   "metadata": {
    "tags": [
     "commentry"
    ]
   },
   "source": [
    "Invoice number should not be encoded because those are the smallest clusters. Have to think about it."
   ]
  },
  {
   "cell_type": "code",
   "execution_count": null,
   "id": "8e28ed9f-76d1-474e-9712-40dc384dd5ba",
   "metadata": {},
   "outputs": [],
   "source": []
  },
  {
   "cell_type": "code",
   "execution_count": 103,
   "id": "e961ad1e-4a59-45e1-9e3f-2ef2d7a322ed",
   "metadata": {},
   "outputs": [
    {
     "ename": "ValueError",
     "evalue": "Unable to parse string \"C536379\" at position 141",
     "output_type": "error",
     "traceback": [
      "\u001b[0;31m---------------------------------------------------------------------------\u001b[0m",
      "\u001b[0;31mValueError\u001b[0m                                Traceback (most recent call last)",
      "File \u001b[0;32m~/source/anaconda3/lib/python3.9/site-packages/pandas/_libs/lib.pyx:2315\u001b[0m, in \u001b[0;36mpandas._libs.lib.maybe_convert_numeric\u001b[0;34m()\u001b[0m\n",
      "\u001b[0;31mValueError\u001b[0m: Unable to parse string \"C536379\"",
      "\nDuring handling of the above exception, another exception occurred:\n",
      "\u001b[0;31mValueError\u001b[0m                                Traceback (most recent call last)",
      "Input \u001b[0;32mIn [103]\u001b[0m, in \u001b[0;36m<cell line: 1>\u001b[0;34m()\u001b[0m\n\u001b[0;32m----> 1\u001b[0m \u001b[43mpd\u001b[49m\u001b[38;5;241;43m.\u001b[39;49m\u001b[43mto_numeric\u001b[49m\u001b[43m(\u001b[49m\u001b[43mdf\u001b[49m\u001b[43m[\u001b[49m\u001b[38;5;124;43m'\u001b[39;49m\u001b[38;5;124;43mInvoiceNo\u001b[39;49m\u001b[38;5;124;43m'\u001b[39;49m\u001b[43m]\u001b[49m\u001b[43m)\u001b[49m\n",
      "File \u001b[0;32m~/source/anaconda3/lib/python3.9/site-packages/pandas/core/tools/numeric.py:184\u001b[0m, in \u001b[0;36mto_numeric\u001b[0;34m(arg, errors, downcast)\u001b[0m\n\u001b[1;32m    182\u001b[0m coerce_numeric \u001b[38;5;241m=\u001b[39m errors \u001b[38;5;129;01mnot\u001b[39;00m \u001b[38;5;129;01min\u001b[39;00m (\u001b[38;5;124m\"\u001b[39m\u001b[38;5;124mignore\u001b[39m\u001b[38;5;124m\"\u001b[39m, \u001b[38;5;124m\"\u001b[39m\u001b[38;5;124mraise\u001b[39m\u001b[38;5;124m\"\u001b[39m)\n\u001b[1;32m    183\u001b[0m \u001b[38;5;28;01mtry\u001b[39;00m:\n\u001b[0;32m--> 184\u001b[0m     values, _ \u001b[38;5;241m=\u001b[39m \u001b[43mlib\u001b[49m\u001b[38;5;241;43m.\u001b[39;49m\u001b[43mmaybe_convert_numeric\u001b[49m\u001b[43m(\u001b[49m\n\u001b[1;32m    185\u001b[0m \u001b[43m        \u001b[49m\u001b[43mvalues\u001b[49m\u001b[43m,\u001b[49m\u001b[43m \u001b[49m\u001b[38;5;28;43mset\u001b[39;49m\u001b[43m(\u001b[49m\u001b[43m)\u001b[49m\u001b[43m,\u001b[49m\u001b[43m \u001b[49m\u001b[43mcoerce_numeric\u001b[49m\u001b[38;5;241;43m=\u001b[39;49m\u001b[43mcoerce_numeric\u001b[49m\n\u001b[1;32m    186\u001b[0m \u001b[43m    \u001b[49m\u001b[43m)\u001b[49m\n\u001b[1;32m    187\u001b[0m \u001b[38;5;28;01mexcept\u001b[39;00m (\u001b[38;5;167;01mValueError\u001b[39;00m, \u001b[38;5;167;01mTypeError\u001b[39;00m):\n\u001b[1;32m    188\u001b[0m     \u001b[38;5;28;01mif\u001b[39;00m errors \u001b[38;5;241m==\u001b[39m \u001b[38;5;124m\"\u001b[39m\u001b[38;5;124mraise\u001b[39m\u001b[38;5;124m\"\u001b[39m:\n",
      "File \u001b[0;32m~/source/anaconda3/lib/python3.9/site-packages/pandas/_libs/lib.pyx:2357\u001b[0m, in \u001b[0;36mpandas._libs.lib.maybe_convert_numeric\u001b[0;34m()\u001b[0m\n",
      "\u001b[0;31mValueError\u001b[0m: Unable to parse string \"C536379\" at position 141"
     ]
    }
   ],
   "source": [
    "pd.to_numeric(df['InvoiceNo'])"
   ]
  },
  {
   "cell_type": "code",
   "execution_count": 108,
   "id": "9b5e42ca-7bbd-4eb1-ae38-909ddb25f370",
   "metadata": {},
   "outputs": [
    {
     "data": {
      "text/html": [
       "<div>\n",
       "<style scoped>\n",
       "    .dataframe tbody tr th:only-of-type {\n",
       "        vertical-align: middle;\n",
       "    }\n",
       "\n",
       "    .dataframe tbody tr th {\n",
       "        vertical-align: top;\n",
       "    }\n",
       "\n",
       "    .dataframe thead th {\n",
       "        text-align: right;\n",
       "    }\n",
       "</style>\n",
       "<table border=\"1\" class=\"dataframe\">\n",
       "  <thead>\n",
       "    <tr style=\"text-align: right;\">\n",
       "      <th></th>\n",
       "      <th>InvoiceNo</th>\n",
       "      <th>StockCode</th>\n",
       "      <th>Description</th>\n",
       "      <th>Quantity</th>\n",
       "      <th>InvoiceDate</th>\n",
       "      <th>UnitPrice</th>\n",
       "      <th>CustomerID</th>\n",
       "      <th>Country</th>\n",
       "    </tr>\n",
       "  </thead>\n",
       "  <tbody>\n",
       "    <tr>\n",
       "      <th>140</th>\n",
       "      <td>536381</td>\n",
       "      <td>21523</td>\n",
       "      <td>DOORMAT FANCY FONT HOME SWEET HOME</td>\n",
       "      <td>10</td>\n",
       "      <td>1/12/2010 9:41</td>\n",
       "      <td>6.75</td>\n",
       "      <td>15311.0</td>\n",
       "      <td>United Kingdom</td>\n",
       "    </tr>\n",
       "    <tr>\n",
       "      <th>141</th>\n",
       "      <td>C536379</td>\n",
       "      <td>D</td>\n",
       "      <td>Discount</td>\n",
       "      <td>-1</td>\n",
       "      <td>1/12/2010 9:41</td>\n",
       "      <td>27.50</td>\n",
       "      <td>14527.0</td>\n",
       "      <td>United Kingdom</td>\n",
       "    </tr>\n",
       "    <tr>\n",
       "      <th>142</th>\n",
       "      <td>536382</td>\n",
       "      <td>10002</td>\n",
       "      <td>INFLATABLE POLITICAL GLOBE</td>\n",
       "      <td>12</td>\n",
       "      <td>1/12/2010 9:45</td>\n",
       "      <td>0.85</td>\n",
       "      <td>16098.0</td>\n",
       "      <td>United Kingdom</td>\n",
       "    </tr>\n",
       "  </tbody>\n",
       "</table>\n",
       "</div>"
      ],
      "text/plain": [
       "    InvoiceNo StockCode                         Description  Quantity  \\\n",
       "140    536381     21523  DOORMAT FANCY FONT HOME SWEET HOME        10   \n",
       "141   C536379         D                            Discount        -1   \n",
       "142    536382     10002         INFLATABLE POLITICAL GLOBE         12   \n",
       "\n",
       "        InvoiceDate  UnitPrice  CustomerID         Country  \n",
       "140  1/12/2010 9:41       6.75     15311.0  United Kingdom  \n",
       "141  1/12/2010 9:41      27.50     14527.0  United Kingdom  \n",
       "142  1/12/2010 9:45       0.85     16098.0  United Kingdom  "
      ]
     },
     "execution_count": 108,
     "metadata": {},
     "output_type": "execute_result"
    }
   ],
   "source": [
    "df.loc[140:142,:]"
   ]
  },
  {
   "cell_type": "markdown",
   "id": "523862a7-fd2d-43af-95bd-496e2763cab9",
   "metadata": {
    "tags": [
     "commentry"
    ]
   },
   "source": [
    "That's surely a mistake, and correcting that we can get `InvoiceNo` as **int**"
   ]
  },
  {
   "cell_type": "code",
   "execution_count": null,
   "id": "9beeaa82-60e0-4bc0-a17d-a259a3e19323",
   "metadata": {},
   "outputs": [],
   "source": []
  },
  {
   "cell_type": "markdown",
   "id": "b9a87ce4-2a25-48b2-aa26-bb9fe795e459",
   "metadata": {},
   "source": [
    "### Description"
   ]
  },
  {
   "cell_type": "code",
   "execution_count": 121,
   "id": "b542e9e2-1f51-4f90-bfec-4d8c021362d7",
   "metadata": {},
   "outputs": [
    {
     "data": {
      "text/plain": [
       "WHITE HANGING HEART T-LIGHT HOLDER     2369\n",
       "REGENCY CAKESTAND 3 TIER               2200\n",
       "JUMBO BAG RED RETROSPOT                2159\n",
       "PARTY BUNTING                          1727\n",
       "LUNCH BAG RED RETROSPOT                1638\n",
       "                                       ... \n",
       "Missing                                   1\n",
       "historic computer difference?....se       1\n",
       "DUSTY PINK CHRISTMAS TREE 30CM            1\n",
       "WRAP BLUE RUSSIAN FOLKART                 1\n",
       "PINK BERTIE MOBILE PHONE CHARM            1\n",
       "Name: Description, Length: 4223, dtype: int64"
      ]
     },
     "execution_count": 121,
     "metadata": {},
     "output_type": "execute_result"
    }
   ],
   "source": [
    "df['Description'].value_counts()#.sort_values(ascending=False).head(10).sum()/df.shape[0]"
   ]
  },
  {
   "cell_type": "markdown",
   "id": "94f7a9a3-627a-48e1-96d6-5714d6bd995a",
   "metadata": {
    "tags": [
     "commentry"
    ]
   },
   "source": [
    "This part might have been redundunt and we have to check correlations, and we have to rely on stockCode, and encode that wisely such that no information is lost"
   ]
  },
  {
   "cell_type": "markdown",
   "id": "8d553d2e-49de-44bc-997c-30d5220ad28a",
   "metadata": {},
   "source": [
    "## Correlation between customerID and other features"
   ]
  },
  {
   "cell_type": "code",
   "execution_count": null,
   "id": "66180fb3-f547-4f09-a74c-67db6166931d",
   "metadata": {},
   "outputs": [],
   "source": []
  },
  {
   "cell_type": "code",
   "execution_count": null,
   "id": "e97332f3-7a95-4350-abc7-5f07c51a6a0d",
   "metadata": {},
   "outputs": [],
   "source": []
  }
 ],
 "metadata": {
  "kernelspec": {
   "display_name": "Python 3 (ipykernel)",
   "language": "python",
   "name": "python3"
  },
  "language_info": {
   "codemirror_mode": {
    "name": "ipython",
    "version": 3
   },
   "file_extension": ".py",
   "mimetype": "text/x-python",
   "name": "python",
   "nbconvert_exporter": "python",
   "pygments_lexer": "ipython3",
   "version": "3.9.12"
  },
  "toc-autonumbering": true,
  "toc-showcode": false,
  "toc-showmarkdowntxt": true,
  "toc-showtags": true
 },
 "nbformat": 4,
 "nbformat_minor": 5
}
